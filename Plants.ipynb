{
 "cells": [
  {
   "cell_type": "code",
   "execution_count": 203,
   "metadata": {},
   "outputs": [],
   "source": [
    "import pandas as pd\n",
    "import numpy as np\n",
    "import seaborn as sns\n",
    "import matplotlib.pyplot as plt"
   ]
  },
  {
   "cell_type": "code",
   "execution_count": 204,
   "metadata": {},
   "outputs": [],
   "source": [
    "data = pd.read_excel('plant_data.xlsx')"
   ]
  },
  {
   "cell_type": "code",
   "execution_count": 205,
   "metadata": {
    "scrolled": true
   },
   "outputs": [
    {
     "data": {
      "text/html": [
       "<div>\n",
       "<style scoped>\n",
       "    .dataframe tbody tr th:only-of-type {\n",
       "        vertical-align: middle;\n",
       "    }\n",
       "\n",
       "    .dataframe tbody tr th {\n",
       "        vertical-align: top;\n",
       "    }\n",
       "\n",
       "    .dataframe thead th {\n",
       "        text-align: right;\n",
       "    }\n",
       "</style>\n",
       "<table border=\"1\" class=\"dataframe\">\n",
       "  <thead>\n",
       "    <tr style=\"text-align: right;\">\n",
       "      <th></th>\n",
       "      <th>*</th>\n",
       "      <th>Link</th>\n",
       "      <th>Latin Name</th>\n",
       "      <th>Common Name</th>\n",
       "      <th>Light</th>\n",
       "      <th>Moisture</th>\n",
       "      <th>Height</th>\n",
       "      <th>Blooms</th>\n",
       "      <th>Price</th>\n",
       "    </tr>\n",
       "  </thead>\n",
       "  <tbody>\n",
       "    <tr>\n",
       "      <td>259</td>\n",
       "      <td>NaN</td>\n",
       "      <td>NaN</td>\n",
       "      <td>NaN</td>\n",
       "      <td>NaN</td>\n",
       "      <td>NaN</td>\n",
       "      <td>NaN</td>\n",
       "      <td>NaN</td>\n",
       "      <td>NaN</td>\n",
       "      <td>quarts: $7.00</td>\n",
       "    </tr>\n",
       "    <tr>\n",
       "      <td>265</td>\n",
       "      <td>NaN</td>\n",
       "      <td>NaN</td>\n",
       "      <td>NaN</td>\n",
       "      <td>NaN</td>\n",
       "      <td>NaN</td>\n",
       "      <td>NaN</td>\n",
       "      <td>NaN</td>\n",
       "      <td>NaN</td>\n",
       "      <td>quarts: $7.00</td>\n",
       "    </tr>\n",
       "    <tr>\n",
       "      <td>141</td>\n",
       "      <td>NaN</td>\n",
       "      <td>NaN</td>\n",
       "      <td>NaN</td>\n",
       "      <td>NaN</td>\n",
       "      <td>NaN</td>\n",
       "      <td>NaN</td>\n",
       "      <td>NaN</td>\n",
       "      <td>NaN</td>\n",
       "      <td>quarts: $7.00</td>\n",
       "    </tr>\n",
       "    <tr>\n",
       "      <td>246</td>\n",
       "      <td>*</td>\n",
       "      <td>NaN</td>\n",
       "      <td>Sisyrinchium angustifolium</td>\n",
       "      <td>Stout blue-eyed-grass</td>\n",
       "      <td>sun -part sun</td>\n",
       "      <td>mesic</td>\n",
       "      <td>1 ft.</td>\n",
       "      <td>spring</td>\n",
       "      <td>quarts: $7.00</td>\n",
       "    </tr>\n",
       "    <tr>\n",
       "      <td>233</td>\n",
       "      <td>*</td>\n",
       "      <td>NaN</td>\n",
       "      <td>Schizachyrium scoparius</td>\n",
       "      <td>Little bluestem grass</td>\n",
       "      <td>sun</td>\n",
       "      <td>dry mesic -dry</td>\n",
       "      <td>2 -4 ft.</td>\n",
       "      <td>summer</td>\n",
       "      <td>plugs: $3.00</td>\n",
       "    </tr>\n",
       "  </tbody>\n",
       "</table>\n",
       "</div>"
      ],
      "text/plain": [
       "       *  Link                  Latin Name            Common Name  \\\n",
       "259  NaN   NaN                         NaN                    NaN   \n",
       "265  NaN   NaN                         NaN                    NaN   \n",
       "141  NaN   NaN                         NaN                    NaN   \n",
       "246    *   NaN  Sisyrinchium angustifolium  Stout blue-eyed-grass   \n",
       "233    *   NaN     Schizachyrium scoparius  Little bluestem grass   \n",
       "\n",
       "             Light        Moisture    Height  Blooms          Price  \n",
       "259            NaN             NaN       NaN     NaN  quarts: $7.00  \n",
       "265            NaN             NaN       NaN     NaN  quarts: $7.00  \n",
       "141            NaN             NaN       NaN     NaN  quarts: $7.00  \n",
       "246  sun -part sun           mesic     1 ft.  spring  quarts: $7.00  \n",
       "233            sun  dry mesic -dry  2 -4 ft.  summer   plugs: $3.00  "
      ]
     },
     "execution_count": 205,
     "metadata": {},
     "output_type": "execute_result"
    }
   ],
   "source": [
    "data.sample(5) #Displaying random five rows"
   ]
  },
  {
   "cell_type": "code",
   "execution_count": 206,
   "metadata": {},
   "outputs": [],
   "source": [
    "data = data.drop(['*','Link'], axis = 1)  #dropping unncessary columns"
   ]
  },
  {
   "cell_type": "code",
   "execution_count": 207,
   "metadata": {
    "scrolled": true
   },
   "outputs": [
    {
     "data": {
      "text/html": [
       "<div>\n",
       "<style scoped>\n",
       "    .dataframe tbody tr th:only-of-type {\n",
       "        vertical-align: middle;\n",
       "    }\n",
       "\n",
       "    .dataframe tbody tr th {\n",
       "        vertical-align: top;\n",
       "    }\n",
       "\n",
       "    .dataframe thead th {\n",
       "        text-align: right;\n",
       "    }\n",
       "</style>\n",
       "<table border=\"1\" class=\"dataframe\">\n",
       "  <thead>\n",
       "    <tr style=\"text-align: right;\">\n",
       "      <th></th>\n",
       "      <th>Latin Name</th>\n",
       "      <th>Common Name</th>\n",
       "      <th>Light</th>\n",
       "      <th>Moisture</th>\n",
       "      <th>Height</th>\n",
       "      <th>Blooms</th>\n",
       "      <th>Price</th>\n",
       "    </tr>\n",
       "  </thead>\n",
       "  <tbody>\n",
       "    <tr>\n",
       "      <td>0</td>\n",
       "      <td>Achillea millefolium</td>\n",
       "      <td>Yarrow</td>\n",
       "      <td>sun -light shade</td>\n",
       "      <td>dry mesic</td>\n",
       "      <td>2 -3 ft.</td>\n",
       "      <td>early summer</td>\n",
       "      <td>plugs: $3.00</td>\n",
       "    </tr>\n",
       "    <tr>\n",
       "      <td>1</td>\n",
       "      <td>NaN</td>\n",
       "      <td>NaN</td>\n",
       "      <td>NaN</td>\n",
       "      <td>NaN</td>\n",
       "      <td>NaN</td>\n",
       "      <td>NaN</td>\n",
       "      <td>NaN</td>\n",
       "    </tr>\n",
       "    <tr>\n",
       "      <td>2</td>\n",
       "      <td>Acorus calamus</td>\n",
       "      <td>Sweet-flag; calamus</td>\n",
       "      <td>full sun -part shade</td>\n",
       "      <td>wet -wet mesic</td>\n",
       "      <td>5 -5 ft.</td>\n",
       "      <td>summer</td>\n",
       "      <td>quarts: $7.00</td>\n",
       "    </tr>\n",
       "    <tr>\n",
       "      <td>3</td>\n",
       "      <td>NaN</td>\n",
       "      <td>NaN</td>\n",
       "      <td>NaN</td>\n",
       "      <td>NaN</td>\n",
       "      <td>NaN</td>\n",
       "      <td>NaN</td>\n",
       "      <td>NaN</td>\n",
       "    </tr>\n",
       "    <tr>\n",
       "      <td>4</td>\n",
       "      <td>Actaea pachypoda</td>\n",
       "      <td>White Baneberry; Doll's-eyes</td>\n",
       "      <td>shade</td>\n",
       "      <td>mesic</td>\n",
       "      <td>2 -3 ft.</td>\n",
       "      <td>spring</td>\n",
       "      <td>quarts: $8.00</td>\n",
       "    </tr>\n",
       "  </tbody>\n",
       "</table>\n",
       "</div>"
      ],
      "text/plain": [
       "             Latin Name                   Common Name                 Light  \\\n",
       "0  Achillea millefolium                        Yarrow      sun -light shade   \n",
       "1                   NaN                           NaN                   NaN   \n",
       "2        Acorus calamus           Sweet-flag; calamus  full sun -part shade   \n",
       "3                   NaN                           NaN                   NaN   \n",
       "4      Actaea pachypoda  White Baneberry; Doll's-eyes                 shade   \n",
       "\n",
       "         Moisture    Height        Blooms          Price  \n",
       "0       dry mesic  2 -3 ft.  early summer   plugs: $3.00  \n",
       "1             NaN       NaN           NaN            NaN  \n",
       "2  wet -wet mesic  5 -5 ft.        summer  quarts: $7.00  \n",
       "3             NaN       NaN           NaN            NaN  \n",
       "4           mesic  2 -3 ft.        spring  quarts: $8.00  "
      ]
     },
     "execution_count": 207,
     "metadata": {},
     "output_type": "execute_result"
    }
   ],
   "source": [
    "data.head()"
   ]
  },
  {
   "cell_type": "markdown",
   "metadata": {},
   "source": [
    "#### Dropping all NaN rows which are present alternatively "
   ]
  },
  {
   "cell_type": "code",
   "execution_count": 208,
   "metadata": {},
   "outputs": [],
   "source": [
    "data.dropna(axis = 0, how = 'all', inplace = True)"
   ]
  },
  {
   "cell_type": "code",
   "execution_count": 209,
   "metadata": {},
   "outputs": [
    {
     "data": {
      "text/html": [
       "<div>\n",
       "<style scoped>\n",
       "    .dataframe tbody tr th:only-of-type {\n",
       "        vertical-align: middle;\n",
       "    }\n",
       "\n",
       "    .dataframe tbody tr th {\n",
       "        vertical-align: top;\n",
       "    }\n",
       "\n",
       "    .dataframe thead th {\n",
       "        text-align: right;\n",
       "    }\n",
       "</style>\n",
       "<table border=\"1\" class=\"dataframe\">\n",
       "  <thead>\n",
       "    <tr style=\"text-align: right;\">\n",
       "      <th></th>\n",
       "      <th>Latin Name</th>\n",
       "      <th>Common Name</th>\n",
       "      <th>Light</th>\n",
       "      <th>Moisture</th>\n",
       "      <th>Height</th>\n",
       "      <th>Blooms</th>\n",
       "      <th>Price</th>\n",
       "    </tr>\n",
       "  </thead>\n",
       "  <tbody>\n",
       "    <tr>\n",
       "      <td>0</td>\n",
       "      <td>Achillea millefolium</td>\n",
       "      <td>Yarrow</td>\n",
       "      <td>sun -light shade</td>\n",
       "      <td>dry mesic</td>\n",
       "      <td>2 -3 ft.</td>\n",
       "      <td>early summer</td>\n",
       "      <td>plugs: $3.00</td>\n",
       "    </tr>\n",
       "    <tr>\n",
       "      <td>2</td>\n",
       "      <td>Acorus calamus</td>\n",
       "      <td>Sweet-flag; calamus</td>\n",
       "      <td>full sun -part shade</td>\n",
       "      <td>wet -wet mesic</td>\n",
       "      <td>5 -5 ft.</td>\n",
       "      <td>summer</td>\n",
       "      <td>quarts: $7.00</td>\n",
       "    </tr>\n",
       "    <tr>\n",
       "      <td>4</td>\n",
       "      <td>Actaea pachypoda</td>\n",
       "      <td>White Baneberry; Doll's-eyes</td>\n",
       "      <td>shade</td>\n",
       "      <td>mesic</td>\n",
       "      <td>2 -3 ft.</td>\n",
       "      <td>spring</td>\n",
       "      <td>quarts: $8.00</td>\n",
       "    </tr>\n",
       "    <tr>\n",
       "      <td>6</td>\n",
       "      <td>Agastache nepetoides</td>\n",
       "      <td>Yellow Giant Hyssop</td>\n",
       "      <td>sun -light shade</td>\n",
       "      <td>mesic</td>\n",
       "      <td>4 -6 ft.</td>\n",
       "      <td>summer</td>\n",
       "      <td>NaN</td>\n",
       "    </tr>\n",
       "    <tr>\n",
       "      <td>7</td>\n",
       "      <td>Agrimonia gryposepala</td>\n",
       "      <td>Tall Agrimony</td>\n",
       "      <td>pt. shade -shade</td>\n",
       "      <td>mesic</td>\n",
       "      <td>2 -4 ft.</td>\n",
       "      <td>summer</td>\n",
       "      <td>quarts: $7.00</td>\n",
       "    </tr>\n",
       "  </tbody>\n",
       "</table>\n",
       "</div>"
      ],
      "text/plain": [
       "              Latin Name                   Common Name                 Light  \\\n",
       "0   Achillea millefolium                        Yarrow      sun -light shade   \n",
       "2         Acorus calamus           Sweet-flag; calamus  full sun -part shade   \n",
       "4       Actaea pachypoda  White Baneberry; Doll's-eyes                 shade   \n",
       "6   Agastache nepetoides           Yellow Giant Hyssop      sun -light shade   \n",
       "7  Agrimonia gryposepala                 Tall Agrimony      pt. shade -shade   \n",
       "\n",
       "         Moisture    Height        Blooms          Price  \n",
       "0       dry mesic  2 -3 ft.  early summer   plugs: $3.00  \n",
       "2  wet -wet mesic  5 -5 ft.        summer  quarts: $7.00  \n",
       "4           mesic  2 -3 ft.        spring  quarts: $8.00  \n",
       "6           mesic  4 -6 ft.        summer            NaN  \n",
       "7           mesic  2 -4 ft.        summer  quarts: $7.00  "
      ]
     },
     "execution_count": 209,
     "metadata": {},
     "output_type": "execute_result"
    }
   ],
   "source": [
    "data.head() # Still we can see Nan, so further inspecting"
   ]
  },
  {
   "cell_type": "code",
   "execution_count": 210,
   "metadata": {},
   "outputs": [],
   "source": [
    "data = data.reset_index(drop=True) #Resetting the index"
   ]
  },
  {
   "cell_type": "markdown",
   "metadata": {},
   "source": [
    "#### Splitting the Price column since it contains both the value and the way it is sold"
   ]
  },
  {
   "cell_type": "code",
   "execution_count": 211,
   "metadata": {},
   "outputs": [],
   "source": [
    "price_data = data['Price'].str.split(\":\",n=1,expand=True)"
   ]
  },
  {
   "cell_type": "code",
   "execution_count": 212,
   "metadata": {},
   "outputs": [],
   "source": [
    "data['Type'] = price_data[0]\n",
    "data['Price_Value'] = price_data[1]"
   ]
  },
  {
   "cell_type": "code",
   "execution_count": 213,
   "metadata": {},
   "outputs": [],
   "source": [
    "data = data.drop(['Price'], axis = 1) "
   ]
  },
  {
   "cell_type": "code",
   "execution_count": 214,
   "metadata": {},
   "outputs": [
    {
     "data": {
      "text/html": [
       "<div>\n",
       "<style scoped>\n",
       "    .dataframe tbody tr th:only-of-type {\n",
       "        vertical-align: middle;\n",
       "    }\n",
       "\n",
       "    .dataframe tbody tr th {\n",
       "        vertical-align: top;\n",
       "    }\n",
       "\n",
       "    .dataframe thead th {\n",
       "        text-align: right;\n",
       "    }\n",
       "</style>\n",
       "<table border=\"1\" class=\"dataframe\">\n",
       "  <thead>\n",
       "    <tr style=\"text-align: right;\">\n",
       "      <th></th>\n",
       "      <th>Latin Name</th>\n",
       "      <th>Common Name</th>\n",
       "      <th>Light</th>\n",
       "      <th>Moisture</th>\n",
       "      <th>Height</th>\n",
       "      <th>Blooms</th>\n",
       "      <th>Type</th>\n",
       "      <th>Price_Value</th>\n",
       "    </tr>\n",
       "  </thead>\n",
       "  <tbody>\n",
       "    <tr>\n",
       "      <td>0</td>\n",
       "      <td>Achillea millefolium</td>\n",
       "      <td>Yarrow</td>\n",
       "      <td>sun -light shade</td>\n",
       "      <td>dry mesic</td>\n",
       "      <td>2 -3 ft.</td>\n",
       "      <td>early summer</td>\n",
       "      <td>plugs</td>\n",
       "      <td>$3.00</td>\n",
       "    </tr>\n",
       "    <tr>\n",
       "      <td>1</td>\n",
       "      <td>Acorus calamus</td>\n",
       "      <td>Sweet-flag; calamus</td>\n",
       "      <td>full sun -part shade</td>\n",
       "      <td>wet -wet mesic</td>\n",
       "      <td>5 -5 ft.</td>\n",
       "      <td>summer</td>\n",
       "      <td>quarts</td>\n",
       "      <td>$7.00</td>\n",
       "    </tr>\n",
       "    <tr>\n",
       "      <td>2</td>\n",
       "      <td>Actaea pachypoda</td>\n",
       "      <td>White Baneberry; Doll's-eyes</td>\n",
       "      <td>shade</td>\n",
       "      <td>mesic</td>\n",
       "      <td>2 -3 ft.</td>\n",
       "      <td>spring</td>\n",
       "      <td>quarts</td>\n",
       "      <td>$8.00</td>\n",
       "    </tr>\n",
       "    <tr>\n",
       "      <td>3</td>\n",
       "      <td>Agastache nepetoides</td>\n",
       "      <td>Yellow Giant Hyssop</td>\n",
       "      <td>sun -light shade</td>\n",
       "      <td>mesic</td>\n",
       "      <td>4 -6 ft.</td>\n",
       "      <td>summer</td>\n",
       "      <td>NaN</td>\n",
       "      <td>NaN</td>\n",
       "    </tr>\n",
       "    <tr>\n",
       "      <td>4</td>\n",
       "      <td>Agrimonia gryposepala</td>\n",
       "      <td>Tall Agrimony</td>\n",
       "      <td>pt. shade -shade</td>\n",
       "      <td>mesic</td>\n",
       "      <td>2 -4 ft.</td>\n",
       "      <td>summer</td>\n",
       "      <td>quarts</td>\n",
       "      <td>$7.00</td>\n",
       "    </tr>\n",
       "  </tbody>\n",
       "</table>\n",
       "</div>"
      ],
      "text/plain": [
       "              Latin Name                   Common Name                 Light  \\\n",
       "0   Achillea millefolium                        Yarrow      sun -light shade   \n",
       "1         Acorus calamus           Sweet-flag; calamus  full sun -part shade   \n",
       "2       Actaea pachypoda  White Baneberry; Doll's-eyes                 shade   \n",
       "3   Agastache nepetoides           Yellow Giant Hyssop      sun -light shade   \n",
       "4  Agrimonia gryposepala                 Tall Agrimony      pt. shade -shade   \n",
       "\n",
       "         Moisture    Height        Blooms    Type Price_Value  \n",
       "0       dry mesic  2 -3 ft.  early summer   plugs       $3.00  \n",
       "1  wet -wet mesic  5 -5 ft.        summer  quarts       $7.00  \n",
       "2           mesic  2 -3 ft.        spring  quarts       $8.00  \n",
       "3           mesic  4 -6 ft.        summer     NaN         NaN  \n",
       "4           mesic  2 -4 ft.        summer  quarts       $7.00  "
      ]
     },
     "execution_count": 214,
     "metadata": {},
     "output_type": "execute_result"
    }
   ],
   "source": [
    "data.head()"
   ]
  },
  {
   "cell_type": "markdown",
   "metadata": {},
   "source": [
    "#### Cleaning the Price_Value column further"
   ]
  },
  {
   "cell_type": "code",
   "execution_count": 215,
   "metadata": {},
   "outputs": [],
   "source": [
    "data['Price_Value'] = data['Price_Value'].str.replace('$', '')"
   ]
  },
  {
   "cell_type": "code",
   "execution_count": 216,
   "metadata": {},
   "outputs": [
    {
     "data": {
      "text/html": [
       "<div>\n",
       "<style scoped>\n",
       "    .dataframe tbody tr th:only-of-type {\n",
       "        vertical-align: middle;\n",
       "    }\n",
       "\n",
       "    .dataframe tbody tr th {\n",
       "        vertical-align: top;\n",
       "    }\n",
       "\n",
       "    .dataframe thead th {\n",
       "        text-align: right;\n",
       "    }\n",
       "</style>\n",
       "<table border=\"1\" class=\"dataframe\">\n",
       "  <thead>\n",
       "    <tr style=\"text-align: right;\">\n",
       "      <th></th>\n",
       "      <th>Latin Name</th>\n",
       "      <th>Common Name</th>\n",
       "      <th>Light</th>\n",
       "      <th>Moisture</th>\n",
       "      <th>Height</th>\n",
       "      <th>Blooms</th>\n",
       "      <th>Type</th>\n",
       "      <th>Price_Value</th>\n",
       "    </tr>\n",
       "  </thead>\n",
       "  <tbody>\n",
       "    <tr>\n",
       "      <td>0</td>\n",
       "      <td>Achillea millefolium</td>\n",
       "      <td>Yarrow</td>\n",
       "      <td>sun -light shade</td>\n",
       "      <td>dry mesic</td>\n",
       "      <td>2 -3 ft.</td>\n",
       "      <td>early summer</td>\n",
       "      <td>plugs</td>\n",
       "      <td>3.00</td>\n",
       "    </tr>\n",
       "    <tr>\n",
       "      <td>1</td>\n",
       "      <td>Acorus calamus</td>\n",
       "      <td>Sweet-flag; calamus</td>\n",
       "      <td>full sun -part shade</td>\n",
       "      <td>wet -wet mesic</td>\n",
       "      <td>5 -5 ft.</td>\n",
       "      <td>summer</td>\n",
       "      <td>quarts</td>\n",
       "      <td>7.00</td>\n",
       "    </tr>\n",
       "    <tr>\n",
       "      <td>2</td>\n",
       "      <td>Actaea pachypoda</td>\n",
       "      <td>White Baneberry; Doll's-eyes</td>\n",
       "      <td>shade</td>\n",
       "      <td>mesic</td>\n",
       "      <td>2 -3 ft.</td>\n",
       "      <td>spring</td>\n",
       "      <td>quarts</td>\n",
       "      <td>8.00</td>\n",
       "    </tr>\n",
       "    <tr>\n",
       "      <td>3</td>\n",
       "      <td>Agastache nepetoides</td>\n",
       "      <td>Yellow Giant Hyssop</td>\n",
       "      <td>sun -light shade</td>\n",
       "      <td>mesic</td>\n",
       "      <td>4 -6 ft.</td>\n",
       "      <td>summer</td>\n",
       "      <td>NaN</td>\n",
       "      <td>NaN</td>\n",
       "    </tr>\n",
       "    <tr>\n",
       "      <td>4</td>\n",
       "      <td>Agrimonia gryposepala</td>\n",
       "      <td>Tall Agrimony</td>\n",
       "      <td>pt. shade -shade</td>\n",
       "      <td>mesic</td>\n",
       "      <td>2 -4 ft.</td>\n",
       "      <td>summer</td>\n",
       "      <td>quarts</td>\n",
       "      <td>7.00</td>\n",
       "    </tr>\n",
       "  </tbody>\n",
       "</table>\n",
       "</div>"
      ],
      "text/plain": [
       "              Latin Name                   Common Name                 Light  \\\n",
       "0   Achillea millefolium                        Yarrow      sun -light shade   \n",
       "1         Acorus calamus           Sweet-flag; calamus  full sun -part shade   \n",
       "2       Actaea pachypoda  White Baneberry; Doll's-eyes                 shade   \n",
       "3   Agastache nepetoides           Yellow Giant Hyssop      sun -light shade   \n",
       "4  Agrimonia gryposepala                 Tall Agrimony      pt. shade -shade   \n",
       "\n",
       "         Moisture    Height        Blooms    Type Price_Value  \n",
       "0       dry mesic  2 -3 ft.  early summer   plugs        3.00  \n",
       "1  wet -wet mesic  5 -5 ft.        summer  quarts        7.00  \n",
       "2           mesic  2 -3 ft.        spring  quarts        8.00  \n",
       "3           mesic  4 -6 ft.        summer     NaN         NaN  \n",
       "4           mesic  2 -4 ft.        summer  quarts        7.00  "
      ]
     },
     "execution_count": 216,
     "metadata": {},
     "output_type": "execute_result"
    }
   ],
   "source": [
    "data.head()"
   ]
  },
  {
   "cell_type": "markdown",
   "metadata": {},
   "source": [
    "### Observation : When there are two types , Plugs and Quarts , it takes up two rows , therefore filling the above row to the next row"
   ]
  },
  {
   "cell_type": "code",
   "execution_count": 217,
   "metadata": {},
   "outputs": [],
   "source": [
    "data = data.fillna(method='ffill')"
   ]
  },
  {
   "cell_type": "code",
   "execution_count": 218,
   "metadata": {},
   "outputs": [
    {
     "data": {
      "text/html": [
       "<div>\n",
       "<style scoped>\n",
       "    .dataframe tbody tr th:only-of-type {\n",
       "        vertical-align: middle;\n",
       "    }\n",
       "\n",
       "    .dataframe tbody tr th {\n",
       "        vertical-align: top;\n",
       "    }\n",
       "\n",
       "    .dataframe thead th {\n",
       "        text-align: right;\n",
       "    }\n",
       "</style>\n",
       "<table border=\"1\" class=\"dataframe\">\n",
       "  <thead>\n",
       "    <tr style=\"text-align: right;\">\n",
       "      <th></th>\n",
       "      <th>Latin Name</th>\n",
       "      <th>Common Name</th>\n",
       "      <th>Light</th>\n",
       "      <th>Moisture</th>\n",
       "      <th>Height</th>\n",
       "      <th>Blooms</th>\n",
       "      <th>Type</th>\n",
       "      <th>Price_Value</th>\n",
       "    </tr>\n",
       "  </thead>\n",
       "  <tbody>\n",
       "    <tr>\n",
       "      <td>0</td>\n",
       "      <td>Achillea millefolium</td>\n",
       "      <td>Yarrow</td>\n",
       "      <td>sun -light shade</td>\n",
       "      <td>dry mesic</td>\n",
       "      <td>2 -3 ft.</td>\n",
       "      <td>early summer</td>\n",
       "      <td>plugs</td>\n",
       "      <td>3.00</td>\n",
       "    </tr>\n",
       "    <tr>\n",
       "      <td>1</td>\n",
       "      <td>Acorus calamus</td>\n",
       "      <td>Sweet-flag; calamus</td>\n",
       "      <td>full sun -part shade</td>\n",
       "      <td>wet -wet mesic</td>\n",
       "      <td>5 -5 ft.</td>\n",
       "      <td>summer</td>\n",
       "      <td>quarts</td>\n",
       "      <td>7.00</td>\n",
       "    </tr>\n",
       "    <tr>\n",
       "      <td>2</td>\n",
       "      <td>Actaea pachypoda</td>\n",
       "      <td>White Baneberry; Doll's-eyes</td>\n",
       "      <td>shade</td>\n",
       "      <td>mesic</td>\n",
       "      <td>2 -3 ft.</td>\n",
       "      <td>spring</td>\n",
       "      <td>quarts</td>\n",
       "      <td>8.00</td>\n",
       "    </tr>\n",
       "    <tr>\n",
       "      <td>3</td>\n",
       "      <td>Agastache nepetoides</td>\n",
       "      <td>Yellow Giant Hyssop</td>\n",
       "      <td>sun -light shade</td>\n",
       "      <td>mesic</td>\n",
       "      <td>4 -6 ft.</td>\n",
       "      <td>summer</td>\n",
       "      <td>quarts</td>\n",
       "      <td>8.00</td>\n",
       "    </tr>\n",
       "    <tr>\n",
       "      <td>4</td>\n",
       "      <td>Agrimonia gryposepala</td>\n",
       "      <td>Tall Agrimony</td>\n",
       "      <td>pt. shade -shade</td>\n",
       "      <td>mesic</td>\n",
       "      <td>2 -4 ft.</td>\n",
       "      <td>summer</td>\n",
       "      <td>quarts</td>\n",
       "      <td>7.00</td>\n",
       "    </tr>\n",
       "  </tbody>\n",
       "</table>\n",
       "</div>"
      ],
      "text/plain": [
       "              Latin Name                   Common Name                 Light  \\\n",
       "0   Achillea millefolium                        Yarrow      sun -light shade   \n",
       "1         Acorus calamus           Sweet-flag; calamus  full sun -part shade   \n",
       "2       Actaea pachypoda  White Baneberry; Doll's-eyes                 shade   \n",
       "3   Agastache nepetoides           Yellow Giant Hyssop      sun -light shade   \n",
       "4  Agrimonia gryposepala                 Tall Agrimony      pt. shade -shade   \n",
       "\n",
       "         Moisture    Height        Blooms    Type Price_Value  \n",
       "0       dry mesic  2 -3 ft.  early summer   plugs        3.00  \n",
       "1  wet -wet mesic  5 -5 ft.        summer  quarts        7.00  \n",
       "2           mesic  2 -3 ft.        spring  quarts        8.00  \n",
       "3           mesic  4 -6 ft.        summer  quarts        8.00  \n",
       "4           mesic  2 -4 ft.        summer  quarts        7.00  "
      ]
     },
     "execution_count": 218,
     "metadata": {},
     "output_type": "execute_result"
    }
   ],
   "source": [
    "data.head()"
   ]
  },
  {
   "cell_type": "markdown",
   "metadata": {},
   "source": [
    "#### Inspecting the columns and Cleaning it further"
   ]
  },
  {
   "cell_type": "code",
   "execution_count": 219,
   "metadata": {},
   "outputs": [
    {
     "data": {
      "text/plain": [
       "array(['2 -3 ft.', '5 -5 ft.', '4 -6 ft.', '2 -4 ft.', '3 -4 ft.',\n",
       "       '1 -1.5 ft.', '1 -2 ft.', '.5 -1 ft.', '2 -5 ft.', '.5 ft.',\n",
       "       '3 -5 ft.', '4 -5 ft.', '2 -2.5 ft.', '1 -2.5 ft.', '2 ft.',\n",
       "       '5 -8 ft.', 'vine', datetime.datetime(2020, 4, 3, 0, 0),\n",
       "       '4 -8 ft.', '6 -10 ft.', '.5 -1.5 ft.', '3 -6 ft.', '3- 6 in.',\n",
       "       '1 -3 ft.', '5 -10 ft.', '1.5 -2.5 ft.', '2-3 ft.', '6- 12 ft.',\n",
       "       '6 -20 ft.', '5 -7 ft.', '2- 5 ft.', '3 -8 ft.', '1 ft.',\n",
       "       '8 -20 ft.', '30- 50 ft.', '8 -18 ft.'], dtype=object)"
      ]
     },
     "execution_count": 219,
     "metadata": {},
     "output_type": "execute_result"
    }
   ],
   "source": [
    "data.Height.unique()"
   ]
  },
  {
   "cell_type": "code",
   "execution_count": 220,
   "metadata": {},
   "outputs": [],
   "source": [
    "height_data = data['Height'].str.split(\"-\",n=1,expand=True)\n",
    "data['Minimum_Height'] = height_data[0]\n",
    "data['Maximum_Height'] = height_data[1]"
   ]
  },
  {
   "cell_type": "code",
   "execution_count": 221,
   "metadata": {},
   "outputs": [
    {
     "name": "stdout",
     "output_type": "stream",
     "text": [
      "['2 ' '5 ' '4 ' '3 ' '1 ' '.5 ' '.5 ft.' '2 ft.' 'vine' nan '6 ' '3'\n",
      " '1.5 ' '2' '6' '1 ft.' '8 ' '30']\n",
      "['3 ft.' '5 ft.' '6 ft.' '4 ft.' '1.5 ft.' '2 ft.' '1 ft.' None '2.5 ft.'\n",
      " '8 ft.' nan '10 ft.' ' 6 in.' ' 12 ft.' '20 ft.' '7 ft.' ' 5 ft.'\n",
      " ' 50 ft.' '18 ft.']\n"
     ]
    }
   ],
   "source": [
    "print(data['Minimum_Height'].unique())\n",
    "print(data['Maximum_Height'].unique())"
   ]
  },
  {
   "cell_type": "code",
   "execution_count": 222,
   "metadata": {},
   "outputs": [],
   "source": [
    "#to treat such anamolies \n",
    "data['Minimum_Height'] = data['Minimum_Height'].str.replace(' ft.',' ')\n",
    "data['Maximum_Height'] = data['Maximum_Height'].str.replace(' ft.', '')"
   ]
  },
  {
   "cell_type": "code",
   "execution_count": 223,
   "metadata": {},
   "outputs": [],
   "source": [
    "#Dropping the original Height Column \n",
    "data = data.drop(['Height'], axis = 1) "
   ]
  },
  {
   "cell_type": "code",
   "execution_count": 224,
   "metadata": {},
   "outputs": [
    {
     "data": {
      "text/html": [
       "<div>\n",
       "<style scoped>\n",
       "    .dataframe tbody tr th:only-of-type {\n",
       "        vertical-align: middle;\n",
       "    }\n",
       "\n",
       "    .dataframe tbody tr th {\n",
       "        vertical-align: top;\n",
       "    }\n",
       "\n",
       "    .dataframe thead th {\n",
       "        text-align: right;\n",
       "    }\n",
       "</style>\n",
       "<table border=\"1\" class=\"dataframe\">\n",
       "  <thead>\n",
       "    <tr style=\"text-align: right;\">\n",
       "      <th></th>\n",
       "      <th>Latin Name</th>\n",
       "      <th>Common Name</th>\n",
       "      <th>Light</th>\n",
       "      <th>Moisture</th>\n",
       "      <th>Blooms</th>\n",
       "      <th>Type</th>\n",
       "      <th>Price_Value</th>\n",
       "      <th>Minimum_Height</th>\n",
       "      <th>Maximum_Height</th>\n",
       "    </tr>\n",
       "  </thead>\n",
       "  <tbody>\n",
       "    <tr>\n",
       "      <td>0</td>\n",
       "      <td>Achillea millefolium</td>\n",
       "      <td>Yarrow</td>\n",
       "      <td>sun -light shade</td>\n",
       "      <td>dry mesic</td>\n",
       "      <td>early summer</td>\n",
       "      <td>plugs</td>\n",
       "      <td>3.00</td>\n",
       "      <td>2</td>\n",
       "      <td>3</td>\n",
       "    </tr>\n",
       "    <tr>\n",
       "      <td>1</td>\n",
       "      <td>Acorus calamus</td>\n",
       "      <td>Sweet-flag; calamus</td>\n",
       "      <td>full sun -part shade</td>\n",
       "      <td>wet -wet mesic</td>\n",
       "      <td>summer</td>\n",
       "      <td>quarts</td>\n",
       "      <td>7.00</td>\n",
       "      <td>5</td>\n",
       "      <td>5</td>\n",
       "    </tr>\n",
       "    <tr>\n",
       "      <td>2</td>\n",
       "      <td>Actaea pachypoda</td>\n",
       "      <td>White Baneberry; Doll's-eyes</td>\n",
       "      <td>shade</td>\n",
       "      <td>mesic</td>\n",
       "      <td>spring</td>\n",
       "      <td>quarts</td>\n",
       "      <td>8.00</td>\n",
       "      <td>2</td>\n",
       "      <td>3</td>\n",
       "    </tr>\n",
       "    <tr>\n",
       "      <td>3</td>\n",
       "      <td>Agastache nepetoides</td>\n",
       "      <td>Yellow Giant Hyssop</td>\n",
       "      <td>sun -light shade</td>\n",
       "      <td>mesic</td>\n",
       "      <td>summer</td>\n",
       "      <td>quarts</td>\n",
       "      <td>8.00</td>\n",
       "      <td>4</td>\n",
       "      <td>6</td>\n",
       "    </tr>\n",
       "    <tr>\n",
       "      <td>4</td>\n",
       "      <td>Agrimonia gryposepala</td>\n",
       "      <td>Tall Agrimony</td>\n",
       "      <td>pt. shade -shade</td>\n",
       "      <td>mesic</td>\n",
       "      <td>summer</td>\n",
       "      <td>quarts</td>\n",
       "      <td>7.00</td>\n",
       "      <td>2</td>\n",
       "      <td>4</td>\n",
       "    </tr>\n",
       "  </tbody>\n",
       "</table>\n",
       "</div>"
      ],
      "text/plain": [
       "              Latin Name                   Common Name                 Light  \\\n",
       "0   Achillea millefolium                        Yarrow      sun -light shade   \n",
       "1         Acorus calamus           Sweet-flag; calamus  full sun -part shade   \n",
       "2       Actaea pachypoda  White Baneberry; Doll's-eyes                 shade   \n",
       "3   Agastache nepetoides           Yellow Giant Hyssop      sun -light shade   \n",
       "4  Agrimonia gryposepala                 Tall Agrimony      pt. shade -shade   \n",
       "\n",
       "         Moisture        Blooms    Type Price_Value Minimum_Height  \\\n",
       "0       dry mesic  early summer   plugs        3.00             2    \n",
       "1  wet -wet mesic        summer  quarts        7.00             5    \n",
       "2           mesic        spring  quarts        8.00             2    \n",
       "3           mesic        summer  quarts        8.00             4    \n",
       "4           mesic        summer  quarts        7.00             2    \n",
       "\n",
       "  Maximum_Height  \n",
       "0              3  \n",
       "1              5  \n",
       "2              3  \n",
       "3              6  \n",
       "4              4  "
      ]
     },
     "execution_count": 224,
     "metadata": {},
     "output_type": "execute_result"
    }
   ],
   "source": [
    "data.head()"
   ]
  },
  {
   "cell_type": "markdown",
   "metadata": {},
   "source": [
    "#### Inspecting the Types of Moisture and Light needed for the Plants"
   ]
  },
  {
   "cell_type": "code",
   "execution_count": 225,
   "metadata": {},
   "outputs": [],
   "source": [
    "#data.Moisture.unique()\n",
    "#data.Light.unique()"
   ]
  },
  {
   "cell_type": "code",
   "execution_count": 226,
   "metadata": {},
   "outputs": [
    {
     "data": {
      "text/plain": [
       "Latin Name        object\n",
       "Common Name       object\n",
       "Light             object\n",
       "Moisture          object\n",
       "Blooms            object\n",
       "Type              object\n",
       "Price_Value       object\n",
       "Minimum_Height    object\n",
       "Maximum_Height    object\n",
       "dtype: object"
      ]
     },
     "execution_count": 226,
     "metadata": {},
     "output_type": "execute_result"
    }
   ],
   "source": [
    "data.dtypes"
   ]
  },
  {
   "cell_type": "markdown",
   "metadata": {},
   "source": [
    "#### Checking the missing data"
   ]
  },
  {
   "cell_type": "code",
   "execution_count": 227,
   "metadata": {},
   "outputs": [
    {
     "data": {
      "text/plain": [
       "Latin Name        0\n",
       "Common Name       0\n",
       "Light             0\n",
       "Moisture          0\n",
       "Blooms            0\n",
       "Type              0\n",
       "Price_Value       0\n",
       "Minimum_Height    1\n",
       "Maximum_Height    9\n",
       "dtype: int64"
      ]
     },
     "execution_count": 227,
     "metadata": {},
     "output_type": "execute_result"
    }
   ],
   "source": [
    "data.isnull().sum()"
   ]
  },
  {
   "cell_type": "markdown",
   "metadata": {},
   "source": [
    "#### Rows and Columns present in the dataframe"
   ]
  },
  {
   "cell_type": "code",
   "execution_count": 228,
   "metadata": {},
   "outputs": [
    {
     "data": {
      "text/plain": [
       "(195, 9)"
      ]
     },
     "execution_count": 228,
     "metadata": {},
     "output_type": "execute_result"
    }
   ],
   "source": [
    "data.shape"
   ]
  },
  {
   "cell_type": "markdown",
   "metadata": {},
   "source": [
    "#### Displaying the Missing Data only"
   ]
  },
  {
   "cell_type": "code",
   "execution_count": 229,
   "metadata": {},
   "outputs": [
    {
     "data": {
      "text/html": [
       "<div>\n",
       "<style scoped>\n",
       "    .dataframe tbody tr th:only-of-type {\n",
       "        vertical-align: middle;\n",
       "    }\n",
       "\n",
       "    .dataframe tbody tr th {\n",
       "        vertical-align: top;\n",
       "    }\n",
       "\n",
       "    .dataframe thead th {\n",
       "        text-align: right;\n",
       "    }\n",
       "</style>\n",
       "<table border=\"1\" class=\"dataframe\">\n",
       "  <thead>\n",
       "    <tr style=\"text-align: right;\">\n",
       "      <th></th>\n",
       "      <th>Latin Name</th>\n",
       "      <th>Common Name</th>\n",
       "      <th>Light</th>\n",
       "      <th>Moisture</th>\n",
       "      <th>Blooms</th>\n",
       "      <th>Type</th>\n",
       "      <th>Price_Value</th>\n",
       "      <th>Minimum_Height</th>\n",
       "      <th>Maximum_Height</th>\n",
       "    </tr>\n",
       "  </thead>\n",
       "  <tbody>\n",
       "    <tr>\n",
       "      <td>16</td>\n",
       "      <td>Asarum canadense</td>\n",
       "      <td>Wild-ginger</td>\n",
       "      <td>shade</td>\n",
       "      <td>mesic</td>\n",
       "      <td>spring</td>\n",
       "      <td>3\" pots</td>\n",
       "      <td>5.00</td>\n",
       "      <td>.5</td>\n",
       "      <td>None</td>\n",
       "    </tr>\n",
       "    <tr>\n",
       "      <td>53</td>\n",
       "      <td>Carex tenera</td>\n",
       "      <td>Quill sedge</td>\n",
       "      <td>part sun -light shade</td>\n",
       "      <td>wet mesic</td>\n",
       "      <td>summer</td>\n",
       "      <td>quarts</td>\n",
       "      <td>7.00</td>\n",
       "      <td>2</td>\n",
       "      <td>None</td>\n",
       "    </tr>\n",
       "    <tr>\n",
       "      <td>59</td>\n",
       "      <td>Clematis virginiana</td>\n",
       "      <td>Virgin's bower</td>\n",
       "      <td>sun -light shade</td>\n",
       "      <td>medium -wet mesic</td>\n",
       "      <td>summer</td>\n",
       "      <td>plugs</td>\n",
       "      <td>3.00</td>\n",
       "      <td>vine</td>\n",
       "      <td>None</td>\n",
       "    </tr>\n",
       "    <tr>\n",
       "      <td>60</td>\n",
       "      <td>Clematis virginiana</td>\n",
       "      <td>Virgin's bower</td>\n",
       "      <td>sun -light shade</td>\n",
       "      <td>medium -wet mesic</td>\n",
       "      <td>summer</td>\n",
       "      <td>quarts</td>\n",
       "      <td>7.00</td>\n",
       "      <td>vine</td>\n",
       "      <td>None</td>\n",
       "    </tr>\n",
       "    <tr>\n",
       "      <td>61</td>\n",
       "      <td>Collinsonia canadensis</td>\n",
       "      <td>Stoneroot, Richweed</td>\n",
       "      <td>shade -pt. sun</td>\n",
       "      <td>mesic</td>\n",
       "      <td>late summer</td>\n",
       "      <td>quarts</td>\n",
       "      <td>7.00</td>\n",
       "      <td>NaN</td>\n",
       "      <td>NaN</td>\n",
       "    </tr>\n",
       "    <tr>\n",
       "      <td>76</td>\n",
       "      <td>Fragaria virginiana</td>\n",
       "      <td>Wild strawberry</td>\n",
       "      <td>sun -part sun</td>\n",
       "      <td>mesic -dry mesic</td>\n",
       "      <td>spring</td>\n",
       "      <td>quarts</td>\n",
       "      <td>7.00</td>\n",
       "      <td>.5</td>\n",
       "      <td>None</td>\n",
       "    </tr>\n",
       "    <tr>\n",
       "      <td>158</td>\n",
       "      <td>Senecio pauperculus</td>\n",
       "      <td>Balsam ragwort</td>\n",
       "      <td>light shade -part sun</td>\n",
       "      <td>dry mesic</td>\n",
       "      <td>spring</td>\n",
       "      <td>plugs</td>\n",
       "      <td>3.00</td>\n",
       "      <td>2</td>\n",
       "      <td>None</td>\n",
       "    </tr>\n",
       "    <tr>\n",
       "      <td>159</td>\n",
       "      <td>(Packera paupercula)</td>\n",
       "      <td>Balsam ragwort</td>\n",
       "      <td>light shade -part sun</td>\n",
       "      <td>dry mesic</td>\n",
       "      <td>spring</td>\n",
       "      <td>plugs</td>\n",
       "      <td>3.00</td>\n",
       "      <td>2</td>\n",
       "      <td>None</td>\n",
       "    </tr>\n",
       "    <tr>\n",
       "      <td>161</td>\n",
       "      <td>Sisyrinchium angustifolium</td>\n",
       "      <td>Stout blue-eyed-grass</td>\n",
       "      <td>sun -part sun</td>\n",
       "      <td>mesic</td>\n",
       "      <td>spring</td>\n",
       "      <td>quarts</td>\n",
       "      <td>7.00</td>\n",
       "      <td>1</td>\n",
       "      <td>None</td>\n",
       "    </tr>\n",
       "  </tbody>\n",
       "</table>\n",
       "</div>"
      ],
      "text/plain": [
       "                     Latin Name            Common Name                  Light  \\\n",
       "16             Asarum canadense            Wild-ginger                  shade   \n",
       "53                 Carex tenera            Quill sedge  part sun -light shade   \n",
       "59          Clematis virginiana         Virgin's bower       sun -light shade   \n",
       "60          Clematis virginiana         Virgin's bower       sun -light shade   \n",
       "61       Collinsonia canadensis    Stoneroot, Richweed         shade -pt. sun   \n",
       "76          Fragaria virginiana        Wild strawberry          sun -part sun   \n",
       "158         Senecio pauperculus         Balsam ragwort  light shade -part sun   \n",
       "159        (Packera paupercula)         Balsam ragwort  light shade -part sun   \n",
       "161  Sisyrinchium angustifolium  Stout blue-eyed-grass          sun -part sun   \n",
       "\n",
       "              Moisture       Blooms     Type Price_Value Minimum_Height  \\\n",
       "16               mesic       spring  3\" pots        5.00            .5    \n",
       "53           wet mesic       summer   quarts        7.00             2    \n",
       "59   medium -wet mesic       summer    plugs        3.00           vine   \n",
       "60   medium -wet mesic       summer   quarts        7.00           vine   \n",
       "61               mesic  late summer   quarts        7.00            NaN   \n",
       "76    mesic -dry mesic       spring   quarts        7.00            .5    \n",
       "158          dry mesic       spring    plugs        3.00             2    \n",
       "159          dry mesic       spring    plugs        3.00             2    \n",
       "161              mesic       spring   quarts        7.00             1    \n",
       "\n",
       "    Maximum_Height  \n",
       "16            None  \n",
       "53            None  \n",
       "59            None  \n",
       "60            None  \n",
       "61             NaN  \n",
       "76            None  \n",
       "158           None  \n",
       "159           None  \n",
       "161           None  "
      ]
     },
     "execution_count": 229,
     "metadata": {},
     "output_type": "execute_result"
    }
   ],
   "source": [
    "null_data = data[data.isnull().any(axis=1)]\n",
    "null_data"
   ]
  },
  {
   "cell_type": "markdown",
   "metadata": {},
   "source": [
    "##### Since there are few values , I decided to fill it with 0 "
   ]
  },
  {
   "cell_type": "code",
   "execution_count": 230,
   "metadata": {},
   "outputs": [],
   "source": [
    "data['Maximum_Height'] = data['Maximum_Height'].fillna(0)\n",
    "data['Minimum_Height'] = data['Minimum_Height'].fillna(0)"
   ]
  },
  {
   "cell_type": "code",
   "execution_count": 231,
   "metadata": {},
   "outputs": [
    {
     "data": {
      "text/plain": [
       "Latin Name        0\n",
       "Common Name       0\n",
       "Light             0\n",
       "Moisture          0\n",
       "Blooms            0\n",
       "Type              0\n",
       "Price_Value       0\n",
       "Minimum_Height    0\n",
       "Maximum_Height    0\n",
       "dtype: int64"
      ]
     },
     "execution_count": 231,
     "metadata": {},
     "output_type": "execute_result"
    }
   ],
   "source": [
    "data.isnull().sum()"
   ]
  },
  {
   "cell_type": "markdown",
   "metadata": {},
   "source": [
    "##### On inspecting further there was one row  Height Columns that had \"vine\" and height in inches. hence, removing it"
   ]
  },
  {
   "cell_type": "code",
   "execution_count": 232,
   "metadata": {},
   "outputs": [],
   "source": [
    "data = data.loc[data.Minimum_Height != 'vine']\n",
    "data = data.loc[data.Maximum_Height !=  ' 6 in.' ]"
   ]
  },
  {
   "cell_type": "code",
   "execution_count": 233,
   "metadata": {},
   "outputs": [
    {
     "data": {
      "text/plain": [
       "array(['2 ', '5 ', '4 ', '3 ', '1 ', '.5 ', 0, '6 ', '1.5 ', '2', '6',\n",
       "       '8 ', '30'], dtype=object)"
      ]
     },
     "execution_count": 233,
     "metadata": {},
     "output_type": "execute_result"
    }
   ],
   "source": [
    "data['Minimum_Height'].unique()"
   ]
  },
  {
   "cell_type": "code",
   "execution_count": 234,
   "metadata": {},
   "outputs": [],
   "source": [
    "data['Minimum_Height'] = data['Minimum_Height'].astype(float)\n",
    "data['Maximum_Height'] = data['Maximum_Height'].astype(float)\n",
    "data['Price_Value'] = data['Price_Value'].astype(float)"
   ]
  },
  {
   "cell_type": "code",
   "execution_count": 235,
   "metadata": {},
   "outputs": [
    {
     "data": {
      "text/plain": [
       "Latin Name         object\n",
       "Common Name        object\n",
       "Light              object\n",
       "Moisture           object\n",
       "Blooms             object\n",
       "Type               object\n",
       "Price_Value       float64\n",
       "Minimum_Height    float64\n",
       "Maximum_Height    float64\n",
       "dtype: object"
      ]
     },
     "execution_count": 235,
     "metadata": {},
     "output_type": "execute_result"
    }
   ],
   "source": [
    "#Checking the type of each column again\n",
    "data.dtypes"
   ]
  },
  {
   "cell_type": "markdown",
   "metadata": {},
   "source": [
    "## EDA"
   ]
  },
  {
   "cell_type": "code",
   "execution_count": 236,
   "metadata": {},
   "outputs": [
    {
     "name": "stdout",
     "output_type": "stream",
     "text": [
      "The range of height of a plant is from : 0.0 feet to 50.0 feet\n"
     ]
    }
   ],
   "source": [
    "print(\"The range of height of a plant is from :\", data['Minimum_Height'].min(),\"feet to\",data['Maximum_Height'].max(),\"feet\")"
   ]
  },
  {
   "cell_type": "code",
   "execution_count": 237,
   "metadata": {},
   "outputs": [
    {
     "data": {
      "text/html": [
       "<div>\n",
       "<style scoped>\n",
       "    .dataframe tbody tr th:only-of-type {\n",
       "        vertical-align: middle;\n",
       "    }\n",
       "\n",
       "    .dataframe tbody tr th {\n",
       "        vertical-align: top;\n",
       "    }\n",
       "\n",
       "    .dataframe thead th {\n",
       "        text-align: right;\n",
       "    }\n",
       "</style>\n",
       "<table border=\"1\" class=\"dataframe\">\n",
       "  <thead>\n",
       "    <tr style=\"text-align: right;\">\n",
       "      <th></th>\n",
       "      <th>Latin Name</th>\n",
       "      <th>Common Name</th>\n",
       "      <th>Light</th>\n",
       "      <th>Moisture</th>\n",
       "      <th>Blooms</th>\n",
       "      <th>Type</th>\n",
       "      <th>Price_Value</th>\n",
       "      <th>Minimum_Height</th>\n",
       "      <th>Maximum_Height</th>\n",
       "    </tr>\n",
       "  </thead>\n",
       "  <tbody>\n",
       "    <tr>\n",
       "      <td>16</td>\n",
       "      <td>Asarum canadense</td>\n",
       "      <td>Wild-ginger</td>\n",
       "      <td>shade</td>\n",
       "      <td>mesic</td>\n",
       "      <td>spring</td>\n",
       "      <td>3\" pots</td>\n",
       "      <td>5.0</td>\n",
       "      <td>0.5</td>\n",
       "      <td>0.0</td>\n",
       "    </tr>\n",
       "    <tr>\n",
       "      <td>53</td>\n",
       "      <td>Carex tenera</td>\n",
       "      <td>Quill sedge</td>\n",
       "      <td>part sun -light shade</td>\n",
       "      <td>wet mesic</td>\n",
       "      <td>summer</td>\n",
       "      <td>quarts</td>\n",
       "      <td>7.0</td>\n",
       "      <td>2.0</td>\n",
       "      <td>0.0</td>\n",
       "    </tr>\n",
       "    <tr>\n",
       "      <td>61</td>\n",
       "      <td>Collinsonia canadensis</td>\n",
       "      <td>Stoneroot, Richweed</td>\n",
       "      <td>shade -pt. sun</td>\n",
       "      <td>mesic</td>\n",
       "      <td>late summer</td>\n",
       "      <td>quarts</td>\n",
       "      <td>7.0</td>\n",
       "      <td>0.0</td>\n",
       "      <td>0.0</td>\n",
       "    </tr>\n",
       "  </tbody>\n",
       "</table>\n",
       "</div>"
      ],
      "text/plain": [
       "                Latin Name          Common Name                  Light  \\\n",
       "16        Asarum canadense          Wild-ginger                  shade   \n",
       "53            Carex tenera          Quill sedge  part sun -light shade   \n",
       "61  Collinsonia canadensis  Stoneroot, Richweed         shade -pt. sun   \n",
       "\n",
       "     Moisture       Blooms     Type  Price_Value  Minimum_Height  \\\n",
       "16      mesic       spring  3\" pots          5.0             0.5   \n",
       "53  wet mesic       summer   quarts          7.0             2.0   \n",
       "61      mesic  late summer   quarts          7.0             0.0   \n",
       "\n",
       "    Maximum_Height  \n",
       "16             0.0  \n",
       "53             0.0  \n",
       "61             0.0  "
      ]
     },
     "execution_count": 237,
     "metadata": {},
     "output_type": "execute_result"
    }
   ],
   "source": [
    "#Top 3 shortest plants\n",
    "data.nsmallest(3,['Maximum_Height'])"
   ]
  },
  {
   "cell_type": "code",
   "execution_count": 238,
   "metadata": {},
   "outputs": [
    {
     "data": {
      "text/html": [
       "<div>\n",
       "<style scoped>\n",
       "    .dataframe tbody tr th:only-of-type {\n",
       "        vertical-align: middle;\n",
       "    }\n",
       "\n",
       "    .dataframe tbody tr th {\n",
       "        vertical-align: top;\n",
       "    }\n",
       "\n",
       "    .dataframe thead th {\n",
       "        text-align: right;\n",
       "    }\n",
       "</style>\n",
       "<table border=\"1\" class=\"dataframe\">\n",
       "  <thead>\n",
       "    <tr style=\"text-align: right;\">\n",
       "      <th></th>\n",
       "      <th>Latin Name</th>\n",
       "      <th>Common Name</th>\n",
       "      <th>Light</th>\n",
       "      <th>Moisture</th>\n",
       "      <th>Blooms</th>\n",
       "      <th>Type</th>\n",
       "      <th>Price_Value</th>\n",
       "      <th>Minimum_Height</th>\n",
       "      <th>Maximum_Height</th>\n",
       "    </tr>\n",
       "  </thead>\n",
       "  <tbody>\n",
       "    <tr>\n",
       "      <td>187</td>\n",
       "      <td>Thuja occidentalis</td>\n",
       "      <td>White Cedar, Arbor vitae</td>\n",
       "      <td>shade- part sun</td>\n",
       "      <td>medium to wet</td>\n",
       "      <td>spring</td>\n",
       "      <td>quarts</td>\n",
       "      <td>7.0</td>\n",
       "      <td>30.0</td>\n",
       "      <td>50.0</td>\n",
       "    </tr>\n",
       "    <tr>\n",
       "      <td>137</td>\n",
       "      <td>Prunus virginiana</td>\n",
       "      <td>Choke cherry</td>\n",
       "      <td>shade -part sun</td>\n",
       "      <td>mesic -dry</td>\n",
       "      <td>spring</td>\n",
       "      <td>1-gal</td>\n",
       "      <td>18.0</td>\n",
       "      <td>6.0</td>\n",
       "      <td>20.0</td>\n",
       "    </tr>\n",
       "    <tr>\n",
       "      <td>182</td>\n",
       "      <td>Staphylea trifolia</td>\n",
       "      <td>Bladdernut</td>\n",
       "      <td>shade -part sun</td>\n",
       "      <td>mesic -wet mesic</td>\n",
       "      <td>early spring</td>\n",
       "      <td>1-gal</td>\n",
       "      <td>18.0</td>\n",
       "      <td>8.0</td>\n",
       "      <td>20.0</td>\n",
       "    </tr>\n",
       "  </tbody>\n",
       "</table>\n",
       "</div>"
      ],
      "text/plain": [
       "             Latin Name               Common Name            Light  \\\n",
       "187  Thuja occidentalis  White Cedar, Arbor vitae  shade- part sun   \n",
       "137   Prunus virginiana              Choke cherry  shade -part sun   \n",
       "182  Staphylea trifolia                Bladdernut  shade -part sun   \n",
       "\n",
       "             Moisture        Blooms    Type  Price_Value  Minimum_Height  \\\n",
       "187     medium to wet        spring  quarts          7.0            30.0   \n",
       "137        mesic -dry        spring   1-gal         18.0             6.0   \n",
       "182  mesic -wet mesic  early spring   1-gal         18.0             8.0   \n",
       "\n",
       "     Maximum_Height  \n",
       "187            50.0  \n",
       "137            20.0  \n",
       "182            20.0  "
      ]
     },
     "execution_count": 238,
     "metadata": {},
     "output_type": "execute_result"
    }
   ],
   "source": [
    "#Top 3 longest plants\n",
    "data.nlargest(3,['Maximum_Height'])"
   ]
  },
  {
   "cell_type": "code",
   "execution_count": 239,
   "metadata": {},
   "outputs": [
    {
     "data": {
      "text/html": [
       "<div>\n",
       "<style scoped>\n",
       "    .dataframe tbody tr th:only-of-type {\n",
       "        vertical-align: middle;\n",
       "    }\n",
       "\n",
       "    .dataframe tbody tr th {\n",
       "        vertical-align: top;\n",
       "    }\n",
       "\n",
       "    .dataframe thead th {\n",
       "        text-align: right;\n",
       "    }\n",
       "</style>\n",
       "<table border=\"1\" class=\"dataframe\">\n",
       "  <thead>\n",
       "    <tr style=\"text-align: right;\">\n",
       "      <th></th>\n",
       "      <th>Latin Name</th>\n",
       "      <th>Common Name</th>\n",
       "      <th>Light</th>\n",
       "      <th>Moisture</th>\n",
       "      <th>Blooms</th>\n",
       "      <th>Type</th>\n",
       "      <th>Price_Value</th>\n",
       "      <th>Minimum_Height</th>\n",
       "      <th>Maximum_Height</th>\n",
       "    </tr>\n",
       "  </thead>\n",
       "  <tbody>\n",
       "    <tr>\n",
       "      <td>0</td>\n",
       "      <td>Achillea millefolium</td>\n",
       "      <td>Yarrow</td>\n",
       "      <td>sun -light shade</td>\n",
       "      <td>dry mesic</td>\n",
       "      <td>early summer</td>\n",
       "      <td>plugs</td>\n",
       "      <td>3.0</td>\n",
       "      <td>2.0</td>\n",
       "      <td>3.0</td>\n",
       "    </tr>\n",
       "    <tr>\n",
       "      <td>7</td>\n",
       "      <td>Andropogon gerardii</td>\n",
       "      <td>Big bluestem grass</td>\n",
       "      <td>full sun</td>\n",
       "      <td>mesic -dry mesic</td>\n",
       "      <td>summer</td>\n",
       "      <td>plugs</td>\n",
       "      <td>3.0</td>\n",
       "      <td>4.0</td>\n",
       "      <td>6.0</td>\n",
       "    </tr>\n",
       "    <tr>\n",
       "      <td>10</td>\n",
       "      <td>Anemone virginiana</td>\n",
       "      <td>Thimbleweed</td>\n",
       "      <td>sun -shade</td>\n",
       "      <td>mesic</td>\n",
       "      <td>summer</td>\n",
       "      <td>plugs</td>\n",
       "      <td>3.0</td>\n",
       "      <td>2.0</td>\n",
       "      <td>4.0</td>\n",
       "    </tr>\n",
       "  </tbody>\n",
       "</table>\n",
       "</div>"
      ],
      "text/plain": [
       "              Latin Name         Common Name             Light  \\\n",
       "0   Achillea millefolium              Yarrow  sun -light shade   \n",
       "7    Andropogon gerardii  Big bluestem grass          full sun   \n",
       "10    Anemone virginiana         Thimbleweed        sun -shade   \n",
       "\n",
       "            Moisture        Blooms   Type  Price_Value  Minimum_Height  \\\n",
       "0          dry mesic  early summer  plugs          3.0             2.0   \n",
       "7   mesic -dry mesic        summer  plugs          3.0             4.0   \n",
       "10             mesic        summer  plugs          3.0             2.0   \n",
       "\n",
       "    Maximum_Height  \n",
       "0              3.0  \n",
       "7              6.0  \n",
       "10             4.0  "
      ]
     },
     "execution_count": 239,
     "metadata": {},
     "output_type": "execute_result"
    }
   ],
   "source": [
    "#Top 3 non expensive plants\n",
    "data.nsmallest(3,['Price_Value'])"
   ]
  },
  {
   "cell_type": "code",
   "execution_count": 240,
   "metadata": {
    "scrolled": true
   },
   "outputs": [
    {
     "data": {
      "text/html": [
       "<div>\n",
       "<style scoped>\n",
       "    .dataframe tbody tr th:only-of-type {\n",
       "        vertical-align: middle;\n",
       "    }\n",
       "\n",
       "    .dataframe tbody tr th {\n",
       "        vertical-align: top;\n",
       "    }\n",
       "\n",
       "    .dataframe thead th {\n",
       "        text-align: right;\n",
       "    }\n",
       "</style>\n",
       "<table border=\"1\" class=\"dataframe\">\n",
       "  <thead>\n",
       "    <tr style=\"text-align: right;\">\n",
       "      <th></th>\n",
       "      <th>Latin Name</th>\n",
       "      <th>Common Name</th>\n",
       "      <th>Light</th>\n",
       "      <th>Moisture</th>\n",
       "      <th>Blooms</th>\n",
       "      <th>Type</th>\n",
       "      <th>Price_Value</th>\n",
       "      <th>Minimum_Height</th>\n",
       "      <th>Maximum_Height</th>\n",
       "    </tr>\n",
       "  </thead>\n",
       "  <tbody>\n",
       "    <tr>\n",
       "      <td>57</td>\n",
       "      <td>Cephalanthus occidentalis</td>\n",
       "      <td>Buttonbush</td>\n",
       "      <td>sun -part shade</td>\n",
       "      <td>wet mesic -wet</td>\n",
       "      <td>summer</td>\n",
       "      <td>1-gal</td>\n",
       "      <td>18.0</td>\n",
       "      <td>5.0</td>\n",
       "      <td>8.0</td>\n",
       "    </tr>\n",
       "    <tr>\n",
       "      <td>71</td>\n",
       "      <td>Euonymus obovata</td>\n",
       "      <td>Creeping Strawberry-bush</td>\n",
       "      <td>shade -light shade</td>\n",
       "      <td>mesic (medium)</td>\n",
       "      <td>spring</td>\n",
       "      <td>1-gal</td>\n",
       "      <td>18.0</td>\n",
       "      <td>0.5</td>\n",
       "      <td>1.5</td>\n",
       "    </tr>\n",
       "    <tr>\n",
       "      <td>94</td>\n",
       "      <td>Hypericum prolificum</td>\n",
       "      <td>Shrubby st.john's-wort</td>\n",
       "      <td>sun -part shade</td>\n",
       "      <td>medium -dry</td>\n",
       "      <td>summer</td>\n",
       "      <td>1-gal</td>\n",
       "      <td>18.0</td>\n",
       "      <td>5.0</td>\n",
       "      <td>10.0</td>\n",
       "    </tr>\n",
       "  </tbody>\n",
       "</table>\n",
       "</div>"
      ],
      "text/plain": [
       "                   Latin Name               Common Name               Light  \\\n",
       "57  Cephalanthus occidentalis                Buttonbush     sun -part shade   \n",
       "71           Euonymus obovata  Creeping Strawberry-bush  shade -light shade   \n",
       "94       Hypericum prolificum    Shrubby st.john's-wort     sun -part shade   \n",
       "\n",
       "          Moisture  Blooms   Type  Price_Value  Minimum_Height  Maximum_Height  \n",
       "57  wet mesic -wet  summer  1-gal         18.0             5.0             8.0  \n",
       "71  mesic (medium)  spring  1-gal         18.0             0.5             1.5  \n",
       "94     medium -dry  summer  1-gal         18.0             5.0            10.0  "
      ]
     },
     "execution_count": 240,
     "metadata": {},
     "output_type": "execute_result"
    }
   ],
   "source": [
    "#Top 3 expensive plants\n",
    "data.nlargest(3,['Price_Value'])"
   ]
  },
  {
   "cell_type": "markdown",
   "metadata": {},
   "source": [
    "#### Making Quantiles to observe the Price Range"
   ]
  },
  {
   "cell_type": "code",
   "execution_count": 241,
   "metadata": {},
   "outputs": [
    {
     "data": {
      "text/plain": [
       "0.25     3.0\n",
       "0.50     7.0\n",
       "0.75     7.0\n",
       "0.90     7.9\n",
       "0.99    18.0\n",
       "Name: Price_Value, dtype: float64"
      ]
     },
     "execution_count": 241,
     "metadata": {},
     "output_type": "execute_result"
    }
   ],
   "source": [
    "data.Price_Value.quantile([0.25,0.5,0.75,0.9,0.99])"
   ]
  },
  {
   "cell_type": "markdown",
   "metadata": {},
   "source": [
    "### Observation : 50% of plants fall under 7 dollars"
   ]
  },
  {
   "cell_type": "code",
   "execution_count": 242,
   "metadata": {},
   "outputs": [
    {
     "data": {
      "text/plain": [
       "Text(0.5, 1.0, 'Distribution of Price')"
      ]
     },
     "execution_count": 242,
     "metadata": {},
     "output_type": "execute_result"
    },
    {
     "data": {
      "image/png": "[encoded data removed]",
      "text/plain": [
       "<Figure size 576x360 with 1 Axes>"
      ]
     },
     "metadata": {},
     "output_type": "display_data"
    }
   ],
   "source": [
    "plt.figure(figsize=(8,5))\n",
    "sns.distplot(data['Price_Value']).set_title('Distribution of Price')"
   ]
  },
  {
   "cell_type": "markdown",
   "metadata": {},
   "source": [
    "#### Finding the plants that fall above and below the Price Average"
   ]
  },
  {
   "cell_type": "code",
   "execution_count": 243,
   "metadata": {},
   "outputs": [
    {
     "data": {
      "text/html": [
       "<div>\n",
       "<style scoped>\n",
       "    .dataframe tbody tr th:only-of-type {\n",
       "        vertical-align: middle;\n",
       "    }\n",
       "\n",
       "    .dataframe tbody tr th {\n",
       "        vertical-align: top;\n",
       "    }\n",
       "\n",
       "    .dataframe thead th {\n",
       "        text-align: right;\n",
       "    }\n",
       "</style>\n",
       "<table border=\"1\" class=\"dataframe\">\n",
       "  <thead>\n",
       "    <tr style=\"text-align: right;\">\n",
       "      <th></th>\n",
       "      <th>Latin Name</th>\n",
       "      <th>Common Name</th>\n",
       "      <th>Light</th>\n",
       "      <th>Moisture</th>\n",
       "      <th>Blooms</th>\n",
       "      <th>Type</th>\n",
       "      <th>Price_Value</th>\n",
       "      <th>Minimum_Height</th>\n",
       "      <th>Maximum_Height</th>\n",
       "    </tr>\n",
       "  </thead>\n",
       "  <tbody>\n",
       "    <tr>\n",
       "      <td>0</td>\n",
       "      <td>Achillea millefolium</td>\n",
       "      <td>Yarrow</td>\n",
       "      <td>sun -light shade</td>\n",
       "      <td>dry mesic</td>\n",
       "      <td>early summer</td>\n",
       "      <td>plugs</td>\n",
       "      <td>3.0</td>\n",
       "      <td>2.0</td>\n",
       "      <td>3.0</td>\n",
       "    </tr>\n",
       "    <tr>\n",
       "      <td>7</td>\n",
       "      <td>Andropogon gerardii</td>\n",
       "      <td>Big bluestem grass</td>\n",
       "      <td>full sun</td>\n",
       "      <td>mesic -dry mesic</td>\n",
       "      <td>summer</td>\n",
       "      <td>plugs</td>\n",
       "      <td>3.0</td>\n",
       "      <td>4.0</td>\n",
       "      <td>6.0</td>\n",
       "    </tr>\n",
       "    <tr>\n",
       "      <td>10</td>\n",
       "      <td>Anemone virginiana</td>\n",
       "      <td>Thimbleweed</td>\n",
       "      <td>sun -shade</td>\n",
       "      <td>mesic</td>\n",
       "      <td>summer</td>\n",
       "      <td>plugs</td>\n",
       "      <td>3.0</td>\n",
       "      <td>2.0</td>\n",
       "      <td>4.0</td>\n",
       "    </tr>\n",
       "    <tr>\n",
       "      <td>16</td>\n",
       "      <td>Asarum canadense</td>\n",
       "      <td>Wild-ginger</td>\n",
       "      <td>shade</td>\n",
       "      <td>mesic</td>\n",
       "      <td>spring</td>\n",
       "      <td>3\" pots</td>\n",
       "      <td>5.0</td>\n",
       "      <td>0.5</td>\n",
       "      <td>0.0</td>\n",
       "    </tr>\n",
       "    <tr>\n",
       "      <td>21</td>\n",
       "      <td>Aster cordifolius</td>\n",
       "      <td>Heart-leaved Aster</td>\n",
       "      <td>light shade</td>\n",
       "      <td>mesic -dry mesic</td>\n",
       "      <td>late fall</td>\n",
       "      <td>plugs</td>\n",
       "      <td>3.0</td>\n",
       "      <td>2.0</td>\n",
       "      <td>3.0</td>\n",
       "    </tr>\n",
       "    <tr>\n",
       "      <td>28</td>\n",
       "      <td>Aster lateriflorus</td>\n",
       "      <td>Calico Aster</td>\n",
       "      <td>shade -pt.sun</td>\n",
       "      <td>mesic (medium)</td>\n",
       "      <td>fall</td>\n",
       "      <td>plugs</td>\n",
       "      <td>3.0</td>\n",
       "      <td>2.0</td>\n",
       "      <td>3.0</td>\n",
       "    </tr>\n",
       "    <tr>\n",
       "      <td>29</td>\n",
       "      <td>(Symphyotrichum lateriflorum)</td>\n",
       "      <td>Calico Aster</td>\n",
       "      <td>shade -pt.sun</td>\n",
       "      <td>mesic (medium)</td>\n",
       "      <td>fall</td>\n",
       "      <td>plugs</td>\n",
       "      <td>3.0</td>\n",
       "      <td>2.0</td>\n",
       "      <td>3.0</td>\n",
       "    </tr>\n",
       "    <tr>\n",
       "      <td>34</td>\n",
       "      <td>Aster sagittifolius</td>\n",
       "      <td>Arrow-leaved Aster</td>\n",
       "      <td>sun -light shade</td>\n",
       "      <td>mesic -dry mesic</td>\n",
       "      <td>fall</td>\n",
       "      <td>plugs</td>\n",
       "      <td>3.0</td>\n",
       "      <td>3.0</td>\n",
       "      <td>5.0</td>\n",
       "    </tr>\n",
       "    <tr>\n",
       "      <td>39</td>\n",
       "      <td>Aster umbellatus</td>\n",
       "      <td>Tall Flat-top White Aster</td>\n",
       "      <td>sun</td>\n",
       "      <td>mesic -wet mesic</td>\n",
       "      <td>early fall</td>\n",
       "      <td>plugs</td>\n",
       "      <td>3.0</td>\n",
       "      <td>3.0</td>\n",
       "      <td>4.0</td>\n",
       "    </tr>\n",
       "    <tr>\n",
       "      <td>40</td>\n",
       "      <td>(Doellingeria umbellata)</td>\n",
       "      <td>Tall Flat-top White Aster</td>\n",
       "      <td>sun</td>\n",
       "      <td>mesic -wet mesic</td>\n",
       "      <td>early fall</td>\n",
       "      <td>plugs</td>\n",
       "      <td>3.0</td>\n",
       "      <td>3.0</td>\n",
       "      <td>4.0</td>\n",
       "    </tr>\n",
       "  </tbody>\n",
       "</table>\n",
       "</div>"
      ],
      "text/plain": [
       "                       Latin Name                Common Name  \\\n",
       "0            Achillea millefolium                     Yarrow   \n",
       "7             Andropogon gerardii         Big bluestem grass   \n",
       "10             Anemone virginiana                Thimbleweed   \n",
       "16               Asarum canadense                Wild-ginger   \n",
       "21              Aster cordifolius         Heart-leaved Aster   \n",
       "28             Aster lateriflorus               Calico Aster   \n",
       "29  (Symphyotrichum lateriflorum)               Calico Aster   \n",
       "34            Aster sagittifolius         Arrow-leaved Aster   \n",
       "39               Aster umbellatus  Tall Flat-top White Aster   \n",
       "40       (Doellingeria umbellata)  Tall Flat-top White Aster   \n",
       "\n",
       "               Light          Moisture        Blooms     Type  Price_Value  \\\n",
       "0   sun -light shade         dry mesic  early summer    plugs          3.0   \n",
       "7           full sun  mesic -dry mesic        summer    plugs          3.0   \n",
       "10        sun -shade             mesic        summer    plugs          3.0   \n",
       "16             shade             mesic        spring  3\" pots          5.0   \n",
       "21       light shade  mesic -dry mesic     late fall    plugs          3.0   \n",
       "28     shade -pt.sun    mesic (medium)          fall    plugs          3.0   \n",
       "29     shade -pt.sun    mesic (medium)          fall    plugs          3.0   \n",
       "34  sun -light shade  mesic -dry mesic          fall    plugs          3.0   \n",
       "39               sun  mesic -wet mesic    early fall    plugs          3.0   \n",
       "40               sun  mesic -wet mesic    early fall    plugs          3.0   \n",
       "\n",
       "    Minimum_Height  Maximum_Height  \n",
       "0              2.0             3.0  \n",
       "7              4.0             6.0  \n",
       "10             2.0             4.0  \n",
       "16             0.5             0.0  \n",
       "21             2.0             3.0  \n",
       "28             2.0             3.0  \n",
       "29             2.0             3.0  \n",
       "34             3.0             5.0  \n",
       "39             3.0             4.0  \n",
       "40             3.0             4.0  "
      ]
     },
     "execution_count": 243,
     "metadata": {},
     "output_type": "execute_result"
    }
   ],
   "source": [
    "#average_price = 6.40\n",
    "below_avg = data[data['Price_Value'] <= data['Price_Value'].mean()]\n",
    "below_avg[:10]"
   ]
  },
  {
   "cell_type": "code",
   "execution_count": 244,
   "metadata": {},
   "outputs": [
    {
     "data": {
      "text/html": [
       "<div>\n",
       "<style scoped>\n",
       "    .dataframe tbody tr th:only-of-type {\n",
       "        vertical-align: middle;\n",
       "    }\n",
       "\n",
       "    .dataframe tbody tr th {\n",
       "        vertical-align: top;\n",
       "    }\n",
       "\n",
       "    .dataframe thead th {\n",
       "        text-align: right;\n",
       "    }\n",
       "</style>\n",
       "<table border=\"1\" class=\"dataframe\">\n",
       "  <thead>\n",
       "    <tr style=\"text-align: right;\">\n",
       "      <th></th>\n",
       "      <th>Latin Name</th>\n",
       "      <th>Common Name</th>\n",
       "      <th>Light</th>\n",
       "      <th>Moisture</th>\n",
       "      <th>Blooms</th>\n",
       "      <th>Type</th>\n",
       "      <th>Price_Value</th>\n",
       "      <th>Minimum_Height</th>\n",
       "      <th>Maximum_Height</th>\n",
       "    </tr>\n",
       "  </thead>\n",
       "  <tbody>\n",
       "    <tr>\n",
       "      <td>1</td>\n",
       "      <td>Acorus calamus</td>\n",
       "      <td>Sweet-flag; calamus</td>\n",
       "      <td>full sun -part shade</td>\n",
       "      <td>wet -wet mesic</td>\n",
       "      <td>summer</td>\n",
       "      <td>quarts</td>\n",
       "      <td>7.0</td>\n",
       "      <td>5.0</td>\n",
       "      <td>5.0</td>\n",
       "    </tr>\n",
       "    <tr>\n",
       "      <td>2</td>\n",
       "      <td>Actaea pachypoda</td>\n",
       "      <td>White Baneberry; Doll's-eyes</td>\n",
       "      <td>shade</td>\n",
       "      <td>mesic</td>\n",
       "      <td>spring</td>\n",
       "      <td>quarts</td>\n",
       "      <td>8.0</td>\n",
       "      <td>2.0</td>\n",
       "      <td>3.0</td>\n",
       "    </tr>\n",
       "    <tr>\n",
       "      <td>3</td>\n",
       "      <td>Agastache nepetoides</td>\n",
       "      <td>Yellow Giant Hyssop</td>\n",
       "      <td>sun -light shade</td>\n",
       "      <td>mesic</td>\n",
       "      <td>summer</td>\n",
       "      <td>quarts</td>\n",
       "      <td>8.0</td>\n",
       "      <td>4.0</td>\n",
       "      <td>6.0</td>\n",
       "    </tr>\n",
       "    <tr>\n",
       "      <td>4</td>\n",
       "      <td>Agrimonia gryposepala</td>\n",
       "      <td>Tall Agrimony</td>\n",
       "      <td>pt. shade -shade</td>\n",
       "      <td>mesic</td>\n",
       "      <td>summer</td>\n",
       "      <td>quarts</td>\n",
       "      <td>7.0</td>\n",
       "      <td>2.0</td>\n",
       "      <td>4.0</td>\n",
       "    </tr>\n",
       "    <tr>\n",
       "      <td>5</td>\n",
       "      <td>Agrimonia parviflora</td>\n",
       "      <td>Swamp Agrimony</td>\n",
       "      <td>sun -light shade</td>\n",
       "      <td>mesic -wet mesic</td>\n",
       "      <td>summer</td>\n",
       "      <td>quarts</td>\n",
       "      <td>7.0</td>\n",
       "      <td>3.0</td>\n",
       "      <td>4.0</td>\n",
       "    </tr>\n",
       "  </tbody>\n",
       "</table>\n",
       "</div>"
      ],
      "text/plain": [
       "              Latin Name                   Common Name                 Light  \\\n",
       "1         Acorus calamus           Sweet-flag; calamus  full sun -part shade   \n",
       "2       Actaea pachypoda  White Baneberry; Doll's-eyes                 shade   \n",
       "3   Agastache nepetoides           Yellow Giant Hyssop      sun -light shade   \n",
       "4  Agrimonia gryposepala                 Tall Agrimony      pt. shade -shade   \n",
       "5   Agrimonia parviflora                Swamp Agrimony      sun -light shade   \n",
       "\n",
       "           Moisture  Blooms    Type  Price_Value  Minimum_Height  \\\n",
       "1    wet -wet mesic  summer  quarts          7.0             5.0   \n",
       "2             mesic  spring  quarts          8.0             2.0   \n",
       "3             mesic  summer  quarts          8.0             4.0   \n",
       "4             mesic  summer  quarts          7.0             2.0   \n",
       "5  mesic -wet mesic  summer  quarts          7.0             3.0   \n",
       "\n",
       "   Maximum_Height  \n",
       "1             5.0  \n",
       "2             3.0  \n",
       "3             6.0  \n",
       "4             4.0  \n",
       "5             4.0  "
      ]
     },
     "execution_count": 244,
     "metadata": {},
     "output_type": "execute_result"
    }
   ],
   "source": [
    "above_avg = data[data['Price_Value'] >= data['Price_Value'].mean()]\n",
    "above_avg[:5]"
   ]
  },
  {
   "cell_type": "code",
   "execution_count": 245,
   "metadata": {},
   "outputs": [
    {
     "name": "stdout",
     "output_type": "stream",
     "text": [
      "Number of plants below the average price value are: 69 and Number of plants above the average price value are: 123\n"
     ]
    }
   ],
   "source": [
    "print(\"Number of plants below the average price value are:\", len(below_avg), \"and Number of plants above the average price value are:\", len(above_avg))"
   ]
  },
  {
   "cell_type": "code",
   "execution_count": 246,
   "metadata": {},
   "outputs": [
    {
     "data": {
      "text/plain": [
       "14"
      ]
     },
     "execution_count": 246,
     "metadata": {},
     "output_type": "execute_result"
    }
   ],
   "source": [
    "data['Blooms'].nunique()"
   ]
  },
  {
   "cell_type": "markdown",
   "metadata": {},
   "source": [
    "#### Looking at the distribution of Plants during various \"Blooms\" (Seasons)"
   ]
  },
  {
   "cell_type": "code",
   "execution_count": 247,
   "metadata": {},
   "outputs": [
    {
     "data": {
      "image/png": "[encoded data removed]",
      "text/plain": [
       "<Figure size 432x288 with 1 Axes>"
      ]
     },
     "metadata": {},
     "output_type": "display_data"
    }
   ],
   "source": [
    "#choosing top 4 kinds of blooms for further analysis \n",
    "import matplotlib.pyplot as plt\n",
    "blooms_count = data['Blooms'].value_counts()[:5]\n",
    "sns.set(style=\"darkgrid\")\n",
    "sns.barplot(blooms_count.index, blooms_count.values, alpha=0.9)\n",
    "plt.title('Frequency Distribution of Blooming season')\n",
    "plt.ylabel('Number of Occurrences', fontsize=12)\n",
    "plt.xlabel('Blooming Season', fontsize=12)\n",
    "plt.show()"
   ]
  },
  {
   "cell_type": "markdown",
   "metadata": {},
   "source": [
    "#### Sorting the value by Price and finding out the first plant (also the least expensive) of every Bloom (Season)"
   ]
  },
  {
   "cell_type": "code",
   "execution_count": 248,
   "metadata": {},
   "outputs": [
    {
     "data": {
      "text/plain": [
       "Blooms\n",
       "early fall                    3.0\n",
       "early spring                  7.0\n",
       "early summer                  3.0\n",
       "fall                          3.0\n",
       "late Summer- fall             3.0\n",
       "late fall                     3.0\n",
       "late spring                   3.0\n",
       "late spring through summer    7.0\n",
       "late spring- early summer     3.0\n",
       "late spring- summer           7.0\n",
       "late summer                   3.0\n",
       "late summer - fall            3.0\n",
       "spring                        3.0\n",
       "summer                        3.0\n",
       "dtype: float64"
      ]
     },
     "execution_count": 248,
     "metadata": {},
     "output_type": "execute_result"
    }
   ],
   "source": [
    "Price_data = data.sort_values(by='Price_Value')\n",
    "Price_data.groupby('Blooms').apply(lambda data : data.Price_Value.iloc[0])"
   ]
  },
  {
   "cell_type": "markdown",
   "metadata": {},
   "source": [
    "#### The Minimum Height and Maximum Height achieved by different seasons"
   ]
  },
  {
   "cell_type": "code",
   "execution_count": 249,
   "metadata": {},
   "outputs": [
    {
     "data": {
      "text/plain": [
       "Blooms\n",
       "early fall                    3.0\n",
       "early spring                  1.0\n",
       "early summer                  1.5\n",
       "fall                          1.0\n",
       "late Summer- fall             3.0\n",
       "late fall                     2.0\n",
       "late spring                   1.0\n",
       "late spring through summer    1.5\n",
       "late spring- early summer     1.0\n",
       "late spring- summer           1.0\n",
       "late summer                   0.0\n",
       "late summer - fall            1.0\n",
       "spring                        0.5\n",
       "summer                        1.0\n",
       "dtype: float64"
      ]
     },
     "execution_count": 249,
     "metadata": {},
     "output_type": "execute_result"
    }
   ],
   "source": [
    "Minimum_Height_data = data.sort_values(by='Minimum_Height')\n",
    "Minimum_Height_data.groupby('Blooms').apply(lambda data : data.Minimum_Height.iloc[0])"
   ]
  },
  {
   "cell_type": "code",
   "execution_count": 250,
   "metadata": {},
   "outputs": [
    {
     "data": {
      "text/plain": [
       "Blooms\n",
       "early fall                    4.0\n",
       "early spring                  1.5\n",
       "early summer                  2.5\n",
       "fall                          2.0\n",
       "late Summer- fall             6.0\n",
       "late fall                     3.0\n",
       "late spring                   2.5\n",
       "late spring through summer    2.5\n",
       "late spring- early summer     3.0\n",
       "late spring- summer           3.0\n",
       "late summer                   0.0\n",
       "late summer - fall            3.0\n",
       "spring                        0.0\n",
       "summer                        0.0\n",
       "dtype: float64"
      ]
     },
     "execution_count": 250,
     "metadata": {},
     "output_type": "execute_result"
    }
   ],
   "source": [
    "Maximum_Height_data = data.sort_values(by='Maximum_Height')\n",
    "Maximum_Height_data.groupby('Blooms').apply(lambda data : data.Maximum_Height.iloc[0])"
   ]
  },
  {
   "cell_type": "markdown",
   "metadata": {},
   "source": [
    "#### The tallest height attained by plants while recieving different kinds of lights"
   ]
  },
  {
   "cell_type": "code",
   "execution_count": 251,
   "metadata": {},
   "outputs": [
    {
     "data": {
      "text/plain": [
       "Light\n",
       "part sun               18.0\n",
       "shade- part sun        12.0\n",
       "sun -pt. sun            8.0\n",
       "full sun -pt. shade     7.0\n",
       "pt. sun                 6.0\n",
       "dtype: float64"
      ]
     },
     "execution_count": 251,
     "metadata": {},
     "output_type": "execute_result"
    }
   ],
   "source": [
    "Light_data = data.sort_values(by='Maximum_Height')\n",
    "Light_data.groupby('Light').apply(lambda data : data.Maximum_Height.iloc[0]).nlargest(5)"
   ]
  },
  {
   "cell_type": "markdown",
   "metadata": {},
   "source": [
    "#### Number of plants available for different SKU's"
   ]
  },
  {
   "cell_type": "code",
   "execution_count": 252,
   "metadata": {},
   "outputs": [
    {
     "data": {
      "text/plain": [
       "quarts     107\n",
       "plugs       62\n",
       "1-gal       16\n",
       "3\" pots      4\n",
       "2\" pots      3\n",
       "Name: Type, dtype: int64"
      ]
     },
     "execution_count": 252,
     "metadata": {},
     "output_type": "execute_result"
    }
   ],
   "source": [
    "data.Type.value_counts()"
   ]
  },
  {
   "cell_type": "markdown",
   "metadata": {},
   "source": [
    "#### The Minimum and Maximum price for each SKU"
   ]
  },
  {
   "cell_type": "code",
   "execution_count": 253,
   "metadata": {},
   "outputs": [
    {
     "data": {
      "text/html": [
       "<div>\n",
       "<style scoped>\n",
       "    .dataframe tbody tr th:only-of-type {\n",
       "        vertical-align: middle;\n",
       "    }\n",
       "\n",
       "    .dataframe tbody tr th {\n",
       "        vertical-align: top;\n",
       "    }\n",
       "\n",
       "    .dataframe thead th {\n",
       "        text-align: right;\n",
       "    }\n",
       "</style>\n",
       "<table border=\"1\" class=\"dataframe\">\n",
       "  <thead>\n",
       "    <tr style=\"text-align: right;\">\n",
       "      <th></th>\n",
       "      <th>min</th>\n",
       "      <th>max</th>\n",
       "    </tr>\n",
       "    <tr>\n",
       "      <th>Type</th>\n",
       "      <th></th>\n",
       "      <th></th>\n",
       "    </tr>\n",
       "  </thead>\n",
       "  <tbody>\n",
       "    <tr>\n",
       "      <td>1-gal</td>\n",
       "      <td>8.0</td>\n",
       "      <td>18.0</td>\n",
       "    </tr>\n",
       "    <tr>\n",
       "      <td>2\" pots</td>\n",
       "      <td>4.0</td>\n",
       "      <td>4.0</td>\n",
       "    </tr>\n",
       "    <tr>\n",
       "      <td>3\" pots</td>\n",
       "      <td>5.0</td>\n",
       "      <td>6.0</td>\n",
       "    </tr>\n",
       "    <tr>\n",
       "      <td>plugs</td>\n",
       "      <td>3.0</td>\n",
       "      <td>3.0</td>\n",
       "    </tr>\n",
       "    <tr>\n",
       "      <td>quarts</td>\n",
       "      <td>7.0</td>\n",
       "      <td>8.0</td>\n",
       "    </tr>\n",
       "  </tbody>\n",
       "</table>\n",
       "</div>"
      ],
      "text/plain": [
       "         min   max\n",
       "Type              \n",
       "1-gal    8.0  18.0\n",
       "2\" pots  4.0   4.0\n",
       "3\" pots  5.0   6.0\n",
       "plugs    3.0   3.0\n",
       "quarts   7.0   8.0"
      ]
     },
     "execution_count": 253,
     "metadata": {},
     "output_type": "execute_result"
    }
   ],
   "source": [
    "data.groupby(['Type']).Price_Value.agg([min, max])"
   ]
  },
  {
   "cell_type": "markdown",
   "metadata": {},
   "source": [
    "#### Correlation of data of numeric variables are as follows. Observations: Price Value is highly uncorrelated to Maximum or Minimum Height"
   ]
  },
  {
   "cell_type": "code",
   "execution_count": 254,
   "metadata": {},
   "outputs": [
    {
     "data": {
      "text/html": [
       "<div>\n",
       "<style scoped>\n",
       "    .dataframe tbody tr th:only-of-type {\n",
       "        vertical-align: middle;\n",
       "    }\n",
       "\n",
       "    .dataframe tbody tr th {\n",
       "        vertical-align: top;\n",
       "    }\n",
       "\n",
       "    .dataframe thead th {\n",
       "        text-align: right;\n",
       "    }\n",
       "</style>\n",
       "<table border=\"1\" class=\"dataframe\">\n",
       "  <thead>\n",
       "    <tr style=\"text-align: right;\">\n",
       "      <th></th>\n",
       "      <th>Price_Value</th>\n",
       "      <th>Minimum_Height</th>\n",
       "      <th>Maximum_Height</th>\n",
       "    </tr>\n",
       "  </thead>\n",
       "  <tbody>\n",
       "    <tr>\n",
       "      <td>Price_Value</td>\n",
       "      <td>1.000000</td>\n",
       "      <td>0.235955</td>\n",
       "      <td>0.314361</td>\n",
       "    </tr>\n",
       "    <tr>\n",
       "      <td>Minimum_Height</td>\n",
       "      <td>0.235955</td>\n",
       "      <td>1.000000</td>\n",
       "      <td>0.954908</td>\n",
       "    </tr>\n",
       "    <tr>\n",
       "      <td>Maximum_Height</td>\n",
       "      <td>0.314361</td>\n",
       "      <td>0.954908</td>\n",
       "      <td>1.000000</td>\n",
       "    </tr>\n",
       "  </tbody>\n",
       "</table>\n",
       "</div>"
      ],
      "text/plain": [
       "                Price_Value  Minimum_Height  Maximum_Height\n",
       "Price_Value        1.000000        0.235955        0.314361\n",
       "Minimum_Height     0.235955        1.000000        0.954908\n",
       "Maximum_Height     0.314361        0.954908        1.000000"
      ]
     },
     "execution_count": 254,
     "metadata": {},
     "output_type": "execute_result"
    }
   ],
   "source": [
    "data.corr()"
   ]
  },
  {
   "cell_type": "markdown",
   "metadata": {},
   "source": [
    "#### Maximum and Minimum Height of Each group of Price Values"
   ]
  },
  {
   "cell_type": "code",
   "execution_count": 255,
   "metadata": {},
   "outputs": [
    {
     "data": {
      "text/html": [
       "<div>\n",
       "<style scoped>\n",
       "    .dataframe tbody tr th:only-of-type {\n",
       "        vertical-align: middle;\n",
       "    }\n",
       "\n",
       "    .dataframe tbody tr th {\n",
       "        vertical-align: top;\n",
       "    }\n",
       "\n",
       "    .dataframe thead th {\n",
       "        text-align: right;\n",
       "    }\n",
       "</style>\n",
       "<table border=\"1\" class=\"dataframe\">\n",
       "  <thead>\n",
       "    <tr style=\"text-align: right;\">\n",
       "      <th></th>\n",
       "      <th>min</th>\n",
       "      <th>max</th>\n",
       "    </tr>\n",
       "    <tr>\n",
       "      <th>Price_Value</th>\n",
       "      <th></th>\n",
       "      <th></th>\n",
       "    </tr>\n",
       "  </thead>\n",
       "  <tbody>\n",
       "    <tr>\n",
       "      <td>3.0</td>\n",
       "      <td>0.5</td>\n",
       "      <td>4.0</td>\n",
       "    </tr>\n",
       "    <tr>\n",
       "      <td>4.0</td>\n",
       "      <td>0.5</td>\n",
       "      <td>1.0</td>\n",
       "    </tr>\n",
       "    <tr>\n",
       "      <td>5.0</td>\n",
       "      <td>0.5</td>\n",
       "      <td>1.0</td>\n",
       "    </tr>\n",
       "    <tr>\n",
       "      <td>6.0</td>\n",
       "      <td>2.0</td>\n",
       "      <td>2.0</td>\n",
       "    </tr>\n",
       "    <tr>\n",
       "      <td>7.0</td>\n",
       "      <td>0.0</td>\n",
       "      <td>30.0</td>\n",
       "    </tr>\n",
       "    <tr>\n",
       "      <td>8.0</td>\n",
       "      <td>1.0</td>\n",
       "      <td>4.0</td>\n",
       "    </tr>\n",
       "    <tr>\n",
       "      <td>18.0</td>\n",
       "      <td>0.5</td>\n",
       "      <td>8.0</td>\n",
       "    </tr>\n",
       "  </tbody>\n",
       "</table>\n",
       "</div>"
      ],
      "text/plain": [
       "             min   max\n",
       "Price_Value           \n",
       "3.0          0.5   4.0\n",
       "4.0          0.5   1.0\n",
       "5.0          0.5   1.0\n",
       "6.0          2.0   2.0\n",
       "7.0          0.0  30.0\n",
       "8.0          1.0   4.0\n",
       "18.0         0.5   8.0"
      ]
     },
     "execution_count": 255,
     "metadata": {},
     "output_type": "execute_result"
    }
   ],
   "source": [
    "data.groupby(['Price_Value']).Minimum_Height.agg([min, max]) #no relation between height and price"
   ]
  },
  {
   "cell_type": "markdown",
   "metadata": {},
   "source": [
    "#### Observation : 35 or more plants fall in \"Sun-light shade\" followed by \"Sun\""
   ]
  },
  {
   "cell_type": "code",
   "execution_count": 256,
   "metadata": {
    "scrolled": true
   },
   "outputs": [
    {
     "data": {
      "image/png": "[encoded data removed]",
      "text/plain": [
       "<Figure size 432x288 with 1 Axes>"
      ]
     },
     "metadata": {},
     "output_type": "display_data"
    }
   ],
   "source": [
    "light_count = data['Light'].value_counts()[:4]\n",
    "sns.set(style=\"darkgrid\")\n",
    "sns.barplot(light_count.index, light_count.values, alpha=0.9)\n",
    "plt.title('Frequency Distribution of Different Lights')\n",
    "plt.ylabel('Number of Occurrences', fontsize=12)\n",
    "plt.xlabel('Types of Light', fontsize=12)\n",
    "plt.show()"
   ]
  },
  {
   "cell_type": "markdown",
   "metadata": {},
   "source": [
    "### DataFrame of Plants in the main seasons "
   ]
  },
  {
   "cell_type": "code",
   "execution_count": 257,
   "metadata": {},
   "outputs": [],
   "source": [
    "#blooming in summer plants\n",
    "SummerPlants = data[data['Blooms'] == \"summer\"].sort_values(by='Price_Value')\n",
    "FallPlants = data[data['Blooms']=='fall'].sort_values(by='Price_Value')\n",
    "SpringPlants = data[data['Blooms']=='spring'].sort_values(by='Price_Value')\n",
    "LateSummerPlants = data[data['Blooms']=='late summer'].sort_values(by='Price_Value')"
   ]
  },
  {
   "cell_type": "code",
   "execution_count": 258,
   "metadata": {},
   "outputs": [
    {
     "data": {
      "text/html": [
       "<div>\n",
       "<style scoped>\n",
       "    .dataframe tbody tr th:only-of-type {\n",
       "        vertical-align: middle;\n",
       "    }\n",
       "\n",
       "    .dataframe tbody tr th {\n",
       "        vertical-align: top;\n",
       "    }\n",
       "\n",
       "    .dataframe thead th {\n",
       "        text-align: right;\n",
       "    }\n",
       "</style>\n",
       "<table border=\"1\" class=\"dataframe\">\n",
       "  <thead>\n",
       "    <tr style=\"text-align: right;\">\n",
       "      <th></th>\n",
       "      <th>Latin Name</th>\n",
       "      <th>Common Name</th>\n",
       "      <th>Light</th>\n",
       "      <th>Moisture</th>\n",
       "      <th>Blooms</th>\n",
       "      <th>Type</th>\n",
       "      <th>Price_Value</th>\n",
       "      <th>Minimum_Height</th>\n",
       "      <th>Maximum_Height</th>\n",
       "    </tr>\n",
       "  </thead>\n",
       "  <tbody>\n",
       "    <tr>\n",
       "      <td>176</td>\n",
       "      <td>Solidago rugosa</td>\n",
       "      <td>Rough goldenrod</td>\n",
       "      <td>sun -light shade</td>\n",
       "      <td>wet mesic</td>\n",
       "      <td>fall</td>\n",
       "      <td>plugs</td>\n",
       "      <td>3.0</td>\n",
       "      <td>3.0</td>\n",
       "      <td>5.0</td>\n",
       "    </tr>\n",
       "    <tr>\n",
       "      <td>174</td>\n",
       "      <td>Solidago rigida</td>\n",
       "      <td>Stiff goldenrod</td>\n",
       "      <td>sun</td>\n",
       "      <td>mesic -dry mesic</td>\n",
       "      <td>fall</td>\n",
       "      <td>plugs</td>\n",
       "      <td>3.0</td>\n",
       "      <td>3.0</td>\n",
       "      <td>5.0</td>\n",
       "    </tr>\n",
       "    <tr>\n",
       "      <td>28</td>\n",
       "      <td>Aster lateriflorus</td>\n",
       "      <td>Calico Aster</td>\n",
       "      <td>shade -pt.sun</td>\n",
       "      <td>mesic (medium)</td>\n",
       "      <td>fall</td>\n",
       "      <td>plugs</td>\n",
       "      <td>3.0</td>\n",
       "      <td>2.0</td>\n",
       "      <td>3.0</td>\n",
       "    </tr>\n",
       "    <tr>\n",
       "      <td>29</td>\n",
       "      <td>(Symphyotrichum lateriflorum)</td>\n",
       "      <td>Calico Aster</td>\n",
       "      <td>shade -pt.sun</td>\n",
       "      <td>mesic (medium)</td>\n",
       "      <td>fall</td>\n",
       "      <td>plugs</td>\n",
       "      <td>3.0</td>\n",
       "      <td>2.0</td>\n",
       "      <td>3.0</td>\n",
       "    </tr>\n",
       "    <tr>\n",
       "      <td>172</td>\n",
       "      <td>Solidago riddellii</td>\n",
       "      <td>Riddell's goldenrod</td>\n",
       "      <td>sun</td>\n",
       "      <td>wet mesic -mesic</td>\n",
       "      <td>fall</td>\n",
       "      <td>plugs</td>\n",
       "      <td>3.0</td>\n",
       "      <td>2.0</td>\n",
       "      <td>4.0</td>\n",
       "    </tr>\n",
       "  </tbody>\n",
       "</table>\n",
       "</div>"
      ],
      "text/plain": [
       "                        Latin Name          Common Name             Light  \\\n",
       "176                Solidago rugosa      Rough goldenrod  sun -light shade   \n",
       "174                Solidago rigida      Stiff goldenrod               sun   \n",
       "28              Aster lateriflorus         Calico Aster     shade -pt.sun   \n",
       "29   (Symphyotrichum lateriflorum)         Calico Aster     shade -pt.sun   \n",
       "172             Solidago riddellii  Riddell's goldenrod               sun   \n",
       "\n",
       "             Moisture Blooms   Type  Price_Value  Minimum_Height  \\\n",
       "176         wet mesic   fall  plugs          3.0             3.0   \n",
       "174  mesic -dry mesic   fall  plugs          3.0             3.0   \n",
       "28     mesic (medium)   fall  plugs          3.0             2.0   \n",
       "29     mesic (medium)   fall  plugs          3.0             2.0   \n",
       "172  wet mesic -mesic   fall  plugs          3.0             2.0   \n",
       "\n",
       "     Maximum_Height  \n",
       "176             5.0  \n",
       "174             5.0  \n",
       "28              3.0  \n",
       "29              3.0  \n",
       "172             4.0  "
      ]
     },
     "execution_count": 258,
     "metadata": {},
     "output_type": "execute_result"
    }
   ],
   "source": [
    "#SummerPlants.head()\n",
    "FallPlants.head()\n",
    "#SpringPlants.head()\n",
    "#LateSummerPlants.head()"
   ]
  }
 ],
 "metadata": {
  "kernelspec": {
   "display_name": "Python 3",
   "language": "python",
   "name": "python3"
  },
  "language_info": {
   "codemirror_mode": {
    "name": "ipython",
    "version": 3
   },
   "file_extension": ".py",
   "mimetype": "text/x-python",
   "name": "python",
   "nbconvert_exporter": "python",
   "pygments_lexer": "ipython3",
   "version": "3.7.4"
  }
 },
 "nbformat": 4,
 "nbformat_minor": 2
}
